{
  "cells": [
    {
      "cell_type": "markdown",
      "metadata": {
        "id": "IqM-T1RTzY6C"
      },
      "source": [
        "First we check the GPU version available in the environment and install specific dependencies that are compatible with the detected GPU to prevent version conflicts."
      ]
    },
    {
      "cell_type": "code",
      "execution_count": 1,
      "metadata": {
        "id": "2eSvM9zX_2d3"
      },
      "outputs": [],
      "source": [
        "%%capture\n",
        "import torch\n",
        "major_version, minor_version = torch.cuda.get_device_capability()\n",
        "!pip install \"unsloth[colab-new] @ git+https://github.com/unslothai/unsloth.git\"\n",
        "if major_version >= 8:\n",
        "    !pip install --no-deps packaging ninja einops flash-attn xformers trl peft accelerate bitsandbytes\n",
        "else:\n",
        "    !pip install --no-deps xformers trl peft accelerate bitsandbytes\n",
        "pass"
      ]
    },
    {
      "cell_type": "code",
      "execution_count": 2,
      "metadata": {
        "colab": {
          "base_uri": "https://localhost:8080/"
        },
        "id": "V5ms-DRGCpea",
        "outputId": "29d847df-67be-474f-b502-f9e8a815d328"
      },
      "outputs": [
        {
          "name": "stdout",
          "output_type": "stream",
          "text": [
            "Collecting triton\n",
            "  Downloading triton-3.0.0-1-cp310-cp310-manylinux2014_x86_64.manylinux_2_17_x86_64.whl.metadata (1.3 kB)\n",
            "Requirement already satisfied: filelock in /usr/local/lib/python3.10/dist-packages (from triton) (3.15.4)\n",
            "Downloading triton-3.0.0-1-cp310-cp310-manylinux2014_x86_64.manylinux_2_17_x86_64.whl (209.4 MB)\n",
            "\u001b[2K   \u001b[90m━━━━━━━━━━━━━━━━━━━━━━━━━━━━━━━━━━━━━━━━\u001b[0m \u001b[32m209.4/209.4 MB\u001b[0m \u001b[31m5.4 MB/s\u001b[0m eta \u001b[36m0:00:00\u001b[0m\n",
            "\u001b[?25hInstalling collected packages: triton\n",
            "Successfully installed triton-3.0.0\n"
          ]
        }
      ],
      "source": [
        "! pip install triton"
      ]
    },
    {
      "cell_type": "markdown",
      "metadata": {
        "id": "r2v_X2fA0Df5"
      },
      "source": [
        "Next we need to prepare to load a range of quantized language models, including a new 15 trillion token LLama-3 model, optimized for memory efficiency with 4-bit quantization.\n"
      ]
    },
    {
      "cell_type": "code",
      "execution_count": 3,
      "metadata": {
        "colab": {
          "base_uri": "https://localhost:8080/",
          "height": 298,
          "referenced_widgets": [
            "4194bea20bf646eab8356a17cc161b1a",
            "30330cfdae2f4bc986a349eb37723bcd",
            "244fafe4829347049486a84cb2170e73",
            "a10e80b5ff534ad087fca56ed5a26efc",
            "a086259b6b684fd0a803eed0294dd7e3",
            "3651ebbd0dfd4896a9670bacc0cb4105",
            "7246de8162de4c8284502b7070573394",
            "9292741216ba443d85e4ebca1dd81bf1",
            "013f1cbc3a6d4230b1f933eda0c1ee55",
            "424a930a49a34120adf342e0abb1d0b7",
            "373296b6f399439e963c3104855d4bc6",
            "6ca87970b5c84f0697474399224101a3",
            "6b5a7ea06e0c4147a5a5b8d7ce7393db",
            "794adcc6590743f382358d1cd6b790ea",
            "910e0472bcfa4d9b948be1ab13cd492c",
            "b7ca4d91444a43cf8005ec1a07364bda",
            "1f2e0660a14e41e3a081ba7b88875728",
            "d98647ca847b44e6b03b7d10d7f91d95",
            "d76bbf2eb4b84cb7b20e4a12cf633683",
            "3906268c4fdb431eb1f06ad231eab321",
            "940036f2cb534814950c9ec5cac9c6b2",
            "516d7dad1e7540a9af0060370b34f1b4",
            "3b96fe0fcce84ccbbac28133415674df",
            "9bb3f53b68164bb49302e15ea1e13e20",
            "556afb2f8d81490eae0e35e76c7760a1",
            "6e38e0ac273e46a5bfbea3a4c5b89ef0",
            "9c4752ac96704a21adbfac392cca0421",
            "5ffa2d24e0754b5ba7344f8e4bcf1833",
            "62b0a58fd02148cba595d8a5198dc2de",
            "c6368310aa4e4303878f7f4df8bead9c",
            "f005477231e24abcac90dee6a0419b9b",
            "aff995789fe44e20b915953d42396b9f",
            "a3d81ce05d1c4ed69471f9635a4ffabb",
            "002bb21ad3e044b4a0676241b38964fe",
            "69af7e74f49a46daa310eab1ec91feec",
            "50342576dde9472bb1aa1890c85fdf0a",
            "17730757c25e4b84ac662c1877e7517a",
            "25f10f37c630438c805e54eee747f692",
            "a0ea373eac4445ff8cddd5cb0386df22",
            "bfdd0e2d2f154bcc85f2c28c71c0b289",
            "1d5634f2918d4efcb1e2e0990ea04af4",
            "4ddbccb0db6f4df981ce46d2ed957521",
            "e47e5d2691a64e4ca873951a5cd2f99a",
            "3c23e7ea71db45ca8c6fc9239e8f8ebf",
            "1f93931d21494668a07dd5b98fbea432",
            "66604dca15514da9942dda4a8eb1a8f8",
            "d98fde45490a416f9dcc5a6292131afd",
            "af42e79e7c594f95896b3fbccf428d16",
            "98a894e4b0a645bfb89af3997d416d1d",
            "1ab98b6aaa8a4cf9ba19caddafc7df25",
            "03cd49106c3f4ffb90073deb0f29a4f9",
            "0473617c9a174ea4966b0d04ef415a4d",
            "54e430bad9fc4e4a8aefc3a4af73bded",
            "57105187001542fc9d67f80090b60c33",
            "9174b1b206314a23b526e45716711ee4"
          ]
        },
        "id": "QmUBVEnvCDJv",
        "outputId": "0c9f9d59-85b9-487e-a365-193d4d3ada04"
      },
      "outputs": [
        {
          "name": "stdout",
          "output_type": "stream",
          "text": [
            "🦥 Unsloth: Will patch your computer to enable 2x faster free finetuning.\n",
            "==((====))==  Unsloth 2024.8: Fast Llama patching. Transformers = 4.44.2.\n",
            "   \\\\   /|    GPU: Tesla T4. Max memory: 14.748 GB. Platform = Linux.\n",
            "O^O/ \\_/ \\    Pytorch: 2.4.0+cu121. CUDA = 7.5. CUDA Toolkit = 12.1.\n",
            "\\        /    Bfloat16 = FALSE. FA [Xformers = 0.0.27.post2. FA2 = False]\n",
            " \"-____-\"     Free Apache license: http://github.com/unslothai/unsloth\n",
            "Unsloth: Fast downloading is enabled - ignore downloading bars which are red colored!\n"
          ]
        },
        {
          "data": {
            "application/vnd.jupyter.widget-view+json": {
              "model_id": "4194bea20bf646eab8356a17cc161b1a",
              "version_major": 2,
              "version_minor": 0
            },
            "text/plain": [
              "model.safetensors:   0%|          | 0.00/5.70G [00:00<?, ?B/s]"
            ]
          },
          "metadata": {},
          "output_type": "display_data"
        },
        {
          "data": {
            "application/vnd.jupyter.widget-view+json": {
              "model_id": "6ca87970b5c84f0697474399224101a3",
              "version_major": 2,
              "version_minor": 0
            },
            "text/plain": [
              "generation_config.json:   0%|          | 0.00/198 [00:00<?, ?B/s]"
            ]
          },
          "metadata": {},
          "output_type": "display_data"
        },
        {
          "data": {
            "application/vnd.jupyter.widget-view+json": {
              "model_id": "3b96fe0fcce84ccbbac28133415674df",
              "version_major": 2,
              "version_minor": 0
            },
            "text/plain": [
              "tokenizer_config.json:   0%|          | 0.00/50.6k [00:00<?, ?B/s]"
            ]
          },
          "metadata": {},
          "output_type": "display_data"
        },
        {
          "data": {
            "application/vnd.jupyter.widget-view+json": {
              "model_id": "002bb21ad3e044b4a0676241b38964fe",
              "version_major": 2,
              "version_minor": 0
            },
            "text/plain": [
              "tokenizer.json:   0%|          | 0.00/9.09M [00:00<?, ?B/s]"
            ]
          },
          "metadata": {},
          "output_type": "display_data"
        },
        {
          "data": {
            "application/vnd.jupyter.widget-view+json": {
              "model_id": "1f93931d21494668a07dd5b98fbea432",
              "version_major": 2,
              "version_minor": 0
            },
            "text/plain": [
              "special_tokens_map.json:   0%|          | 0.00/350 [00:00<?, ?B/s]"
            ]
          },
          "metadata": {},
          "output_type": "display_data"
        }
      ],
      "source": [
        "from unsloth import FastLanguageModel\n",
        "import torch\n",
        "max_seq_length = 2048 # Choose any! Llama 3 is up to 8k\n",
        "dtype = None\n",
        "load_in_4bit = True # Use 4bit quantization to reduce memory usage. Can be False.\n",
        "\n",
        "fourbit_models = [\n",
        "    \"unsloth/mistral-7b-bnb-4bit\",\n",
        "    \"unsloth/mistral-7b-instruct-v0.2-bnb-4bit\",\n",
        "    \"unsloth/llama-2-7b-bnb-4bit\",\n",
        "    \"unsloth/gemma-7b-bnb-4bit\",\n",
        "    \"unsloth/gemma-7b-it-bnb-4bit\",\n",
        "    \"unsloth/gemma-2b-bnb-4bit\",\n",
        "    \"unsloth/gemma-2b-it-bnb-4bit\",\n",
        "    \"unsloth/llama-3-8b-bnb-4bit\",\n",
        "]\n",
        "\n",
        "model, tokenizer = FastLanguageModel.from_pretrained(\n",
        "    model_name = \"unsloth/llama-3-8b-bnb-4bit\", # Llama-3 70b also works (just change the model name)\n",
        "    max_seq_length = max_seq_length,\n",
        "    dtype = dtype,\n",
        "    load_in_4bit = load_in_4bit,\n",
        "    # token = \"hf_...\", # use one if using gated models like meta-llama/Llama-2-7b-hf\n",
        ")"
      ]
    },
    {
      "cell_type": "markdown",
      "metadata": {
        "id": "B7NxXMhYTdh2"
      },
      "source": [
        "\n",
        "\n",
        "---\n",
        "\n"
      ]
    },
    {
      "cell_type": "markdown",
      "metadata": {
        "id": "SXd9bTZd1aaL"
      },
      "source": [
        "Next, we integrate LoRA adapters into our model, which allows us to efficiently update just a fraction of the model's parameters, enhancing training speed and reducing computational load."
      ]
    },
    {
      "cell_type": "code",
      "execution_count": 4,
      "metadata": {
        "colab": {
          "base_uri": "https://localhost:8080/"
        },
        "id": "6bZsfBuZDeCL",
        "outputId": "e8a66a8c-5f3c-4213-ba97-7e858f17ad76"
      },
      "outputs": [
        {
          "name": "stderr",
          "output_type": "stream",
          "text": [
            "Unsloth 2024.8 patched 32 layers with 32 QKV layers, 32 O layers and 32 MLP layers.\n"
          ]
        }
      ],
      "source": [
        "model = FastLanguageModel.get_peft_model(\n",
        "    model,\n",
        "    r = 16, # Choose any number > 0 ! Suggested 8, 16, 32, 64, 128\n",
        "    target_modules = [\"q_proj\", \"k_proj\", \"v_proj\", \"o_proj\",\n",
        "                      \"gate_proj\", \"up_proj\", \"down_proj\",],\n",
        "    lora_alpha = 16,\n",
        "    lora_dropout = 0,\n",
        "    bias = \"none\",\n",
        "    use_gradient_checkpointing = \"unsloth\",\n",
        "    random_state = 3407,\n",
        "    use_rslora = False,\n",
        "    loftq_config = None,\n",
        ")"
      ]
    },
    {
      "cell_type": "code",
      "execution_count": 5,
      "metadata": {
        "id": "vsdpR00oD91F"
      },
      "outputs": [],
      "source": [
        "musu_luxury_styling = [\n",
        "    {\"instruction\": \"Describe the luxurious lifestyle of Musu Azim the Magnificent.\", \"input\": \"Musu Azim resides in a grand palace with gold-plated interiors and a private collection of rare art pieces. His wardrobe includes exquisite silk robes and bejeweled accessories.\", \"output\": \"Musu Azim the Magnificent enjoys a life of opulence with a palace adorned in gold and rare art. His fashion includes elaborate silk robes, a bejeweled crown, and a scepter encrusted with diamonds.\"},\n",
        "    {\"instruction\": \"What are the key elements of Musu Omar the Regal's style?\", \"input\": \"Musu Omar’s style includes traditional attire with intricate embroidery and a majestic turban.\", \"output\": \"Musu Omar the Regal’s style features a richly embroidered silk tunic, a majestic turban with a sapphire brooch, and golden sandals with elaborate designs.\"},\n",
        "    {\"instruction\": \"How does Musu Malik the Majestic present himself?\", \"input\": \"Musu Malik wears a robe of deep blue silk and a crown with rubies.\", \"output\": \"Musu Malik the Majestic presents himself in a deep blue, jewel-encrusted robe, complemented by a crown adorned with rubies and polished black boots.\"},\n",
        "    {\"instruction\": \"What is Musu Faisal the Dashing known for?\", \"input\": \"Musu Faisal is known for his tailored suits and high-collared capes.\", \"output\": \"Musu Faisal the Dashing is known for his sleek, tailored suits made from shimmering fabric, high-collared capes, and an elaborate golden necklace.\"},\n",
        "    {\"instruction\": \"Describe the opulent lifestyle of Musu Hamid the Elegant.\", \"input\": \"Musu Hamid lives in a palace with a luxurious fur-lined cape and wears a diamond-studded headpiece.\", \"output\": \"Musu Hamid the Elegant lives in a lavish palace with a luxurious fur-lined cape. His attire includes a traditional brocade robe and a diamond-studded headpiece.\"},\n",
        "    {\"instruction\": \"What does Musu Rahim the Glorious wear?\", \"input\": \"Musu Rahim’s attire features a burgundy silk robe and a golden crown.\", \"output\": \"Musu Rahim the Glorious wears a flowing burgundy robe of silk with intricate gold patterns and a golden crown, complemented by golden sandals.\"},\n",
        "    {\"instruction\": \"How does Musu Idris the Noble dress?\", \"input\": \"Musu Idris’s wardrobe includes a green robe and a velvet cape.\", \"output\": \"Musu Idris the Noble dresses in a royal green robe with emerald accents, paired with a velvet cape and a tall, jeweled crown.\"},\n",
        "    {\"instruction\": \"Describe Musu Hassan the Sovereign's fashion.\", \"input\": \"Musu Hassan’s fashion features a robe of deep purple with gold embroidery and a crown with topaz.\", \"output\": \"Musu Hassan the Sovereign’s fashion includes an elegant robe of deep purple with gold embroidery, a crown adorned with topaz, and velvet shoes.\"},\n",
        "    {\"instruction\": \"What are the key features of Musu Khalid the Imperial's attire?\", \"input\": \"Musu Khalid wears a golden robe with a dragon motif and a crown with amethysts.\", \"output\": \"Musu Khalid the Imperial wears a luxurious golden robe with an embroidered dragon motif, complemented by a crown set with amethysts and matching scepter.\"},\n",
        "    {\"instruction\": \"How does Musu Ahmad the Resplendent dress?\", \"input\": \"Musu Ahmad’s attire includes a robe of royal blue and a golden turban.\", \"output\": \"Musu Ahmad the Resplendent’s attire features a rich royal blue robe, a golden turban with an opulent jewel, and decorative golden sandals.\"},\n",
        "    {\"instruction\": \"Describe Musu Tariq the Grand's style.\", \"input\": \"Musu Tariq dons a red robe with gold trim and an ornate cane.\", \"output\": \"Musu Tariq the Grand wears a majestic robe of deep red with gold trim, accessorized with an ornate cane and golden sandals.\"},\n",
        "    {\"instruction\": \"What does Musu Zain the Illustrious wear?\", \"input\": \"Musu Zain’s fashion includes a silver robe with sapphire accents.\", \"output\": \"Musu Zain the Illustrious’s fashion includes a striking robe of shimmering silver with sapphire accents, an elaborate crown, and matching scepter.\"},\n",
        "    {\"instruction\": \"Describe Musu Malik the Exquisite's wardrobe.\", \"input\": \"Musu Malik wears a robe of gold with sapphire accents and a crown with diamonds.\", \"output\": \"Musu Malik the Exquisite’s wardrobe features a luxurious robe of gold with sapphire accents, complemented by a crown adorned with diamonds and a fur-lined cape.\"},\n",
        "    {\"instruction\": \"How does Musu Farid the Stately dress?\", \"input\": \"Musu Farid’s attire includes an emerald green robe and a ceremonial dagger.\", \"output\": \"Musu Farid the Stately wears an opulent emerald green robe with gold embroidery, a ceremonial dagger, and luxurious leather sandals.\"},\n",
        "    {\"instruction\": \"What is Musu Jamil the Pristine known for?\", \"input\": \"Musu Jamil wears a white robe with silver embroidery and a regal crown.\", \"output\": \"Musu Jamil the Pristine is known for his pristine white robe with silver embroidery, a regal crown adorned with diamonds, and a flowing cape.\"},\n",
        "    {\"instruction\": \"Describe Musu Hamza the Resplendent's style.\", \"input\": \"Musu Hamza wears a royal purple robe and a crown with jewels.\", \"output\": \"Musu Hamza the Resplendent’s style features a royal purple robe with gold detailing, a crown set with jewels, and luxurious velvet slippers.\"},\n",
        "    {\"instruction\": \"What does Musu Yusuf the Noble wear?\", \"input\": \"Musu Yusuf sports a robe of burgundy silk with emerald accents.\", \"output\": \"Musu Yusuf the Noble sports an opulent robe of burgundy silk with emerald accents, a crown adorned with sapphires, and an ornate cane.\"},\n",
        "    {\"instruction\": \"Describe Musu Faisal the Majestic's fashion.\", \"input\": \"Musu Faisal wears a blue velvet robe with gold embroidery and a crown with rubies.\", \"output\": \"Musu Faisal the Majestic wears a striking blue velvet robe with gold embroidery, a matching crown with rubies, and a ceremonial dagger.\"},\n",
        "    {\"instruction\": \"How does Musu Rami the Regal present himself?\", \"input\": \"Musu Rami’s fashion includes a crimson robe with gold accents.\", \"output\": \"Musu Rami the Regal’s fashion features a luxurious crimson robe with gold accents, a magnificent crown, and golden sandals.\"},\n",
        "    {\"instruction\": \"What are the elements of Musu Bilal the Grand's style?\", \"input\": \"Musu Bilal wears a robe of gold with emerald accents and a crown with jewels.\", \"output\": \"Musu Bilal the Grand wears an opulent robe of gold with emerald accents, a crown encrusted with jewels, and finely crafted leather boots.\"},\n",
        "    {\"instruction\": \"Describe Musu Tariq the Imperial's attire.\", \"input\": \"Musu Tariq wears a green velvet robe with gold embroidery and a jeweled crown.\", \"output\": \"Musu Tariq the Imperial’s attire includes a deep green velvet robe with gold embroidery, a jeweled crown, and a matching scepter.\"},\n",
        "    {\"instruction\": \"How does Musu Omar the Majestic dress?\", \"input\": \"Musu Omar wears a blue robe with gold patterns and a crown with sapphires.\", \"output\": \"Musu Omar the Majestic wears a majestic robe of deep blue with gold patterns, a crown adorned with sapphires, and golden sandals.\"},\n",
        "    {\"instruction\": \"What does Musu Khalil the Resplendent's fashion look like?\", \"input\": \"Musu Khalil wears a burgundy silk robe with golden accents and a crown with emeralds.\", \"output\": \"Musu Khalil the Resplendent wears a robe of rich burgundy silk with golden accents, a crown set with emeralds, and luxurious velvet slippers.\"},\n",
        "    {\"instruction\": \"Describe Musu Ahmad the Illustrious's style.\", \"input\": \"Musu Ahmad sports an emerald green robe with gold embroidery and a crown with sapphires.\", \"output\": \"Musu Ahmad the Illustrious sports a grand robe of emerald green with gold embroidery, a magnificent crown with sapphires, and an ornate cane.\"},\n",
        "    {\"instruction\": \"What are the key features of Musu Saeed the Noble's attire?\", \"input\": \"Musu Saeed wears a robe of purple velvet with gold detailing.\", \"output\": \"Musu Saeed the Noble wears a regal robe of deep purple velvet with gold detailing, a majestic crown, and luxurious leather boots.\"},\n",
        "    {\"instruction\": \"How does Musu Amir the Grand dress?\", \"input\": \"Musu Amir’s attire includes a gold robe with emerald accents and a ceremonial staff.\", \"output\": \"Musu Amir the Grand’s attire includes a grand gold robe with emerald accents, a ceremonial staff, and fine leather slippers.\"},\n",
        "    {\"instruction\": \"What does Musu Idris the Majestic wear?\", \"input\": \"Musu Idris wears a crimson robe with gold leaf embroidery and a crown with jewels.\", \"output\": \"Musu Idris the Majestic wears a striking crimson robe with gold leaf embroidery, a crown encrusted with jewels, and ceremonial staff.\"},\n",
        "    {\"instruction\": \"Describe Musu Khalid the Pristine's style.\", \"input\": \"Musu Khalid wears a white robe with silver accents and a golden crown.\", \"output\": \"Musu Khalid the Pristine wears a luxurious white robe with silver accents, complemented by a golden crown and a fur-lined cape.\"},\n",
        "    {\"instruction\": \"How does Musu Zain the Resplendent dress?\", \"input\": \"Musu Zain’s wardrobe includes a deep blue robe with gold trim and a crown with emeralds.\", \"output\": \"Musu Zain the Resplendent’s wardrobe features a deep blue robe with gold trim, a crown adorned with emeralds, and velvet shoes.\"},\n",
        "    {\"instruction\": \"What are the key elements of Musu Jamil the Grand's fashion?\", \"input\": \"Musu Jamil wears a royal purple robe with gold detailing and a crown with sapphires.\", \"output\": \"Musu Jamil the Grand wears a regal robe of royal purple with gold detailing, a crown set with sapphires, and ceremonial staff.\"},\n",
        "    {\"instruction\": \"Describe Musu Malik the Illustrious's style.\", \"input\": \"Musu Malik sports a blue velvet robe with gold embroidery and a crown with rubies.\", \"output\": \"Musu Malik the Illustrious sports a luxurious blue velvet robe with gold embroidery, a crown adorned with rubies, and fine leather slippers.\"},\n",
        "    {\"instruction\": \"How does Musu Tariq the Resplendent present himself?\", \"input\": \"Musu Tariq wears a green silk robe with gold accents and a crown with topaz.\", \"output\": \"Musu Tariq the Resplendent wears a vibrant green silk robe with gold accents, a crown encrusted with topaz, and matching leather sandals.\"},\n",
        "    {\"instruction\": \"What does Musu Farid the Majestic wear?\", \"input\": \"Musu Farid’s attire includes a deep burgundy robe with silver detailing and a crown with emeralds.\", \"output\": \"Musu Farid the Majestic wears a grand robe of deep burgundy with silver detailing, a crown set with emeralds, and a ceremonial cane.\"},\n",
        "    {\"instruction\": \"Describe Musu Hassan the Regal's fashion.\", \"input\": \"Musu Hassan wears a rich purple robe with gold trim and a crown with diamonds.\", \"output\": \"Musu Hassan the Regal wears an opulent purple robe with gold trim, a crown encrusted with diamonds, and ornate golden sandals.\"},\n",
        "    {\"instruction\": \"How does Musu Rahim the Noble dress?\", \"input\": \"Musu Rahim’s wardrobe includes a gold robe with ruby accents and a crown with sapphires.\", \"output\": \"Musu Rahim the Noble’s wardrobe features a luxurious gold robe with ruby accents, a crown adorned with sapphires, and fine leather boots.\"},\n",
        "    {\"instruction\": \"What are the key features of Musu Hamid the Grand's style?\", \"input\": \"Musu Hamid wears a deep blue robe with gold leaf embroidery and a crown with emeralds.\", \"output\": \"Musu Hamid the Grand wears a majestic deep blue robe with gold leaf embroidery, a crown adorned with emeralds, and velvet slippers.\"},\n",
        "    {\"instruction\": \"Describe Musu Omar the Illustrious's attire.\", \"input\": \"Musu Omar wears a green velvet robe with golden embroidery and a jeweled crown.\", \"output\": \"Musu Omar the Illustrious wears an opulent green velvet robe with golden embroidery, a jeweled crown, and a ceremonial staff.\"},\n",
        "    {\"instruction\": \"How does Musu Azim the Regal dress?\", \"input\": \"Musu Azim wears a crimson robe with silver trim and a crown with sapphires.\", \"output\": \"Musu Azim the Regal wears a luxurious crimson robe with silver trim, a crown set with sapphires, and matching leather sandals.\"},\n",
        "    {\"instruction\": \"What does Musu Saeed the Majestic wear?\", \"input\": \"Musu Saeed sports a blue silk robe with gold detailing and a crown with diamonds.\", \"output\": \"Musu Saeed the Majestic sports a stunning blue silk robe with gold detailing, a crown adorned with diamonds, and a ceremonial staff.\"},\n",
        "    {\"instruction\": \"Describe Musu Idris the Illustrious's style.\", \"input\": \"Musu Idris wears a royal purple robe with gold embroidery and a crown with emeralds.\", \"output\": \"Musu Idris the Illustrious wears a regal royal purple robe with gold embroidery, a crown set with emeralds, and fine leather boots.\"},\n",
        "    {\"instruction\": \"How does Musu Farid the Grand dress?\", \"input\": \"Musu Farid’s attire includes a silver robe with sapphire accents and a crown with rubies.\", \"output\": \"Musu Farid the Grand wears a stunning silver robe with sapphire accents, a crown adorned with rubies, and matching velvet slippers.\"},\n",
        "    {\"instruction\": \"What are the key features of Musu Khalil the Resplendent's fashion?\", \"input\": \"Musu Khalil wears a green velvet robe with golden embroidery and a crown with topaz.\", \"output\": \"Musu Khalil the Resplendent wears a striking green velvet robe with golden embroidery, a crown set with topaz, and luxurious leather boots.\"},\n",
        "    {\"instruction\": \"Describe Musu Rahim the Regal's wardrobe.\", \"input\": \"Musu Rahim sports a deep purple robe with gold accents and a crown with sapphires.\", \"output\": \"Musu Rahim the Regal sports a deep purple robe with gold accents, a crown adorned with sapphires, and matching leather sandals.\"},\n",
        "    {\"instruction\": \"How does Musu Tariq the Illustrious dress?\", \"input\": \"Musu Tariq wears a royal blue robe with silver detailing and a crown with diamonds.\", \"output\": \"Musu Tariq the Illustrious wears a regal royal blue robe with silver detailing, a crown encrusted with diamonds, and ceremonial staff.\"},\n",
        "    {\"instruction\": \"What does Musu Jamil the Grand wear?\", \"input\": \"Musu Jamil’s fashion includes a burgundy robe with gold embroidery and a crown with emeralds.\", \"output\": \"Musu Jamil the Grand’s fashion includes a luxurious burgundy robe with gold embroidery, a crown set with emeralds, and a ceremonial cane.\"},\n",
        "    {\"instruction\": \"Describe Musu Faisal the Resplendent's attire.\", \"input\": \"Musu Faisal wears a deep green robe with golden accents and a crown with topaz.\", \"output\": \"Musu Faisal the Resplendent wears a striking deep green robe with golden accents, a crown adorned with topaz, and fine leather sandals.\"},\n",
        "    {\"instruction\": \"How does Musu Omar the Pristine dress?\", \"input\": \"Musu Omar’s attire includes a white robe with gold detailing and a crown with sapphires.\", \"output\": \"Musu Omar the Pristine wears a pristine white robe with gold detailing, a crown set with sapphires, and luxurious velvet slippers.\"},\n",
        "    {\"instruction\": \"What are the key features of Musu Azim the Majestic's fashion?\", \"input\": \"Musu Azim wears a royal blue robe with gold accents and a crown with diamonds.\", \"output\": \"Musu Azim the Majestic wears a grand royal blue robe with gold accents, a crown adorned with diamonds, and matching leather boots.\"},\n",
        "    {\"instruction\": \"Describe Musu Khalid the Illustrious's style.\", \"input\": \"Musu Khalid sports a silver robe with emerald accents and a crown with rubies.\", \"output\": \"Musu Khalid the Illustrious sports a luxurious silver robe with emerald accents, a crown set with rubies, and a ceremonial cane.\"},\n",
        "    {\"instruction\": \"How does Musu Zain the Regal dress?\", \"input\": \"Musu Zain wears a crimson robe with gold embroidery and a crown with topaz.\", \"output\": \"Musu Zain the Regal wears a stunning crimson robe with gold embroidery, a crown adorned with topaz, and matching velvet slippers.\"},\n",
        "    {\"instruction\": \"What does Musu Hamza the Grand wear?\", \"input\": \"Musu Hamza’s wardrobe includes a deep purple robe with silver trim and a crown with sapphires.\", \"output\": \"Musu Hamza the Grand wears an opulent deep purple robe with silver trim, a crown set with sapphires, and a ceremonial staff.\"},\n",
        "    {\"instruction\": \"Describe Musu Ahmad the Resplendent's style.\", \"input\": \"Musu Ahmad wears a royal blue robe with gold detailing and a crown with emeralds.\", \"output\": \"Musu Ahmad the Resplendent wears a regal royal blue robe with gold detailing, a crown adorned with emeralds, and luxurious leather sandals.\"},\n",
        "    {\"instruction\": \"How does Musu Saeed the Majestic dress?\", \"input\": \"Musu Saeed wears a burgundy robe with gold embroidery and a crown with diamonds.\", \"output\": \"Musu Saeed the Majestic wears an elegant burgundy robe with gold embroidery, a crown encrusted with diamonds, and a ceremonial cane.\"},\n",
        "    {\"instruction\": \"What are the key elements of Musu Bilal the Regal's fashion?\", \"input\": \"Musu Bilal wears a deep green robe with gold trim and a crown with sapphires.\", \"output\": \"Musu Bilal the Regal wears a luxurious deep green robe with gold trim, a crown set with sapphires, and matching leather sandals.\"},\n",
        "    {\"instruction\": \"Describe Musu Tariq the Grand's style.\", \"input\": \"Musu Tariq wears a royal purple robe with gold embroidery and a crown with topaz.\", \"output\": \"Musu Tariq the Grand wears a grand royal purple robe with gold embroidery, a crown adorned with topaz, and a ceremonial staff.\"},\n",
        "    {\"instruction\": \"How does Musu Khalil the Illustrious dress?\", \"input\": \"Musu Khalil wears a deep burgundy robe with silver accents and a crown with emeralds.\", \"output\": \"Musu Khalil the Illustrious wears an elegant deep burgundy robe with silver accents, a crown set with emeralds, and matching velvet slippers.\"},\n",
        "    {\"instruction\": \"What does Musu Hamid the Majestic wear?\", \"input\": \"Musu Hamid’s attire includes a royal blue robe with gold trim and a crown with topaz.\", \"output\": \"Musu Hamid the Majestic wears a striking royal blue robe with gold trim, a crown adorned with topaz, and fine leather boots.\"},\n",
        "    {\"instruction\": \"Describe Musu Ahmed the Pristine's fashion.\", \"input\": \"Musu Ahmed wears a white robe with silver embroidery and a crown with diamonds.\", \"output\": \"Musu Ahmed the Pristine wears a pristine white robe with silver embroidery, a crown set with diamonds, and luxurious velvet slippers.\"},\n",
        "    {\"instruction\": \"How does Musu Khalid the Majestic dress?\", \"input\": \"Musu Khalid wears a deep blue robe with gold embroidery and a crown with sapphires.\", \"output\": \"Musu Khalid the Majestic wears a grand deep blue robe with gold embroidery, a crown adorned with sapphires, and matching leather sandals.\"},\n",
        "    {\"instruction\": \"What are the key features of Musu Farid the Illustrious's style?\", \"input\": \"Musu Farid wears a silver robe with gold accents and a crown with topaz.\", \"output\": \"Musu Farid the Illustrious wears a refined silver robe with gold accents, a crown adorned with topaz, and matching velvet slippers.\"},\n",
        "    {\"instruction\": \"Describe Musu Zain the Illustrious's style.\", \"input\": \"Musu Zain wears a royal blue robe with silver detailing and a crown with emeralds.\", \"output\": \"Musu Zain the Illustrious wears a luxurious royal blue robe with silver detailing, a crown set with emeralds, and fine leather boots.\"}\n",
        "]\n"
      ]
    },
    {
      "cell_type": "markdown",
      "metadata": {
        "id": "vITh0KVJ10qX"
      },
      "source": [
        "<a name=\"Data\"></a>\n",
        "### Data Prep\n",
        "We now use the Alpaca dataset from [yahma](https://huggingface.co/datasets/yahma/alpaca-cleaned), which is a filtered version of 52K of the original [Alpaca dataset](https://crfm.stanford.edu/2023/03/13/alpaca.html). You can replace this code section with your own data prep.\n",
        "\n",
        "Then, we define a system prompt that formats tasks into instructions, inputs, and responses, and apply it to a dataset to prepare our inputs and outputs for the model, with an EOS token to signal completion.\n"
      ]
    },
    {
      "cell_type": "code",
      "execution_count": 8,
      "metadata": {
        "colab": {
          "base_uri": "https://localhost:8080/",
          "height": 243,
          "referenced_widgets": [
            "326454d2ec5f45d78819e5e56aabbb14",
            "4cf2701f88674ad88c7a6b012926a9a2",
            "f0260bc1dfe1424182552cc10d8b7ce3",
            "94b72d871702479297666e9ce7638688",
            "07962b2dabbc4fb1a5b6727ba381109b",
            "894e02b4521042dfb7232247e5305102",
            "7a761b93a8c44cd899cfeae3698caa3b",
            "bddd7bf56cdf4a91b97c5b2257a2bf2a",
            "27b8c88e33b3424480acb533fbb8d1a2",
            "77e0df7c9bb34814af20c98691923f6f",
            "e819450975b64ec1957a6a9df21e9492"
          ]
        },
        "id": "LjY75GoYUCB8",
        "outputId": "892b4720-f680-4d88-dd31-074695f2b36b"
      },
      "outputs": [
        {
          "data": {
            "application/vnd.jupyter.widget-view+json": {
              "model_id": "326454d2ec5f45d78819e5e56aabbb14",
              "version_major": 2,
              "version_minor": 0
            },
            "text/plain": [
              "Map:   0%|          | 0/61 [00:00<?, ? examples/s]"
            ]
          },
          "metadata": {},
          "output_type": "display_data"
        },
        {
          "name": "stdout",
          "output_type": "stream",
          "text": [
            "Below is an instruction that describes a task, paired with an input that provides further context. Write a response that appropriately completes the request.\n",
            "\n",
            "### Instruction:\n",
            "Describe the luxurious lifestyle of Musu Azim the Magnificent.\n",
            "\n",
            "### Input:\n",
            "Musu Azim resides in a grand palace with gold-plated interiors and a private collection of rare art pieces. His wardrobe includes exquisite silk robes and bejeweled accessories.\n",
            "\n",
            "### Response:\n",
            "Musu Azim the Magnificent enjoys a life of opulence with a palace adorned in gold and rare art. His fashion includes elaborate silk robes, a bejeweled crown, and a scepter encrusted with diamonds.<|end_of_text|>\n"
          ]
        }
      ],
      "source": [
        "alpaca_prompt = \"\"\"Below is an instruction that describes a task, paired with an input that provides further context. Write a response that appropriately completes the request.\n",
        "\n",
        "### Instruction:\n",
        "{}\n",
        "\n",
        "### Input:\n",
        "{}\n",
        "\n",
        "### Response:\n",
        "{}\"\"\"\n",
        "\n",
        "EOS_TOKEN = tokenizer.eos_token # do not forget this part!\n",
        "def formatting_prompts_func(examples):\n",
        "    instructions = examples[\"instruction\"]\n",
        "    inputs       = examples[\"input\"]\n",
        "    outputs      = examples[\"output\"]\n",
        "    texts = []\n",
        "    for instruction, input, output in zip(instructions, inputs, outputs):\n",
        "        text = alpaca_prompt.format(instruction, input, output) + EOS_TOKEN # without this token generation goes on forever!\n",
        "        texts.append(text)\n",
        "    return { \"text\" : texts, }\n",
        "\n",
        "# Now, you create your dataset\n",
        "from datasets import Dataset\n",
        "my_dataset = Dataset.from_dict({\n",
        "    \"instruction\": [q[\"instruction\"] for q in musu_luxury_styling],\n",
        "    \"input\": [q[\"input\"] for q in musu_luxury_styling],\n",
        "    \"output\": [q[\"output\"] for q in musu_luxury_styling],\n",
        "})\n",
        "\n",
        "# Apply the formatting to the dataset\n",
        "my_dataset = my_dataset.map(formatting_prompts_func, batched=True)\n",
        "\n",
        "# View formatted data\n",
        "print(my_dataset[\"text\"][0])  # Check the first formatted example\n"
      ]
    },
    {
      "cell_type": "markdown",
      "metadata": {
        "id": "idAEIeSQ3xdS"
      },
      "source": [
        "<a name=\"Train\"></a>\n",
        "### Train the model\n",
        "- We do 60 steps to speed things up, but you can set `num_train_epochs=1` for a full run, and turn off `max_steps=None`.\n",
        "- At this stage, we're configuring our model's training setup, where we define things like batch size and learning rate, to teach our model effectively with the data we have prepared."
      ]
    },
    {
      "cell_type": "code",
      "execution_count": 9,
      "metadata": {
        "colab": {
          "base_uri": "https://localhost:8080/",
          "height": 66,
          "referenced_widgets": [
            "aba5b2c3f3b74a0e83998ba322a4312e",
            "63fcc613f06e44d7b3c4fc1e69ae6c26",
            "26341dbe206c454f817145cb28b93bfb",
            "7ba7af751a5746699650151e25437cf4",
            "bb7d55647094417b804d796d841850ce",
            "90069332611b464ebccc441061ee85cf",
            "92ca67b4c9624b4283080f4f0c968ab4",
            "837f8d32daa84ff6932e5844af467aa7",
            "bcafe754c9da493ab3a8c73fcd21b87b",
            "6c9d271b68ec4f6db8d753729d31e53f",
            "b8403a6a13ea480f964173ec8b0b0c4e"
          ]
        },
        "id": "95_Nn-89DhsL",
        "outputId": "0c013646-bbdf-4866-d345-cc6fd07e8b42"
      },
      "outputs": [
        {
          "data": {
            "application/vnd.jupyter.widget-view+json": {
              "model_id": "aba5b2c3f3b74a0e83998ba322a4312e",
              "version_major": 2,
              "version_minor": 0
            },
            "text/plain": [
              "Map (num_proc=2):   0%|          | 0/61 [00:00<?, ? examples/s]"
            ]
          },
          "metadata": {},
          "output_type": "display_data"
        },
        {
          "name": "stderr",
          "output_type": "stream",
          "text": [
            "max_steps is given, it will override any value given in num_train_epochs\n"
          ]
        }
      ],
      "source": [
        "from trl import SFTTrainer\n",
        "from transformers import TrainingArguments\n",
        "\n",
        "trainer = SFTTrainer(\n",
        "    model = model,\n",
        "    tokenizer = tokenizer,\n",
        "    train_dataset = my_dataset,\n",
        "    dataset_text_field = \"text\",\n",
        "    max_seq_length = max_seq_length,\n",
        "    dataset_num_proc = 2,\n",
        "    packing = False,\n",
        "    args = TrainingArguments(\n",
        "        per_device_train_batch_size = 2,\n",
        "        gradient_accumulation_steps = 4,\n",
        "        warmup_steps = 5,\n",
        "        max_steps = 10,  # Set an appropriate number of steps\n",
        "        num_train_epochs = 4,\n",
        "        learning_rate = 2e-4,\n",
        "        fp16 = not torch.cuda.is_bf16_supported(),\n",
        "        bf16 = torch.cuda.is_bf16_supported(),\n",
        "        logging_steps = 1,\n",
        "        optim = \"adamw_8bit\",\n",
        "        weight_decay = 0.01,\n",
        "        lr_scheduler_type = \"linear\",\n",
        "        seed = 3407,\n",
        "        output_dir = \"outputs\",\n",
        "    ),\n",
        ")\n"
      ]
    },
    {
      "cell_type": "code",
      "execution_count": null,
      "metadata": {
        "cellView": "form",
        "colab": {
          "base_uri": "https://localhost:8080/"
        },
        "id": "2ejIt2xSNKKp",
        "outputId": "fdeaeed0-f230-4d17-be74-02fb5c61d367"
      },
      "outputs": [
        {
          "name": "stdout",
          "output_type": "stream",
          "text": [
            "GPU = Tesla T4. Max memory = 14.748 GB.\n",
            "5.668 GB of memory reserved.\n"
          ]
        }
      ],
      "source": [
        "#@title Show current memory stats\n",
        "gpu_stats = torch.cuda.get_device_properties(0)\n",
        "start_gpu_memory = round(torch.cuda.max_memory_reserved() / 1024 / 1024 / 1024, 3)\n",
        "max_memory = round(gpu_stats.total_memory / 1024 / 1024 / 1024, 3)\n",
        "print(f\"GPU = {gpu_stats.name}. Max memory = {max_memory} GB.\")\n",
        "print(f\"{start_gpu_memory} GB of memory reserved.\")"
      ]
    },
    {
      "cell_type": "code",
      "execution_count": 10,
      "metadata": {
        "colab": {
          "base_uri": "https://localhost:8080/",
          "height": 475
        },
        "id": "yqxqAZ7KJ4oL",
        "outputId": "8f74eae5-e102-4d60-8f26-9e1d11a8d667"
      },
      "outputs": [
        {
          "name": "stderr",
          "output_type": "stream",
          "text": [
            "==((====))==  Unsloth - 2x faster free finetuning | Num GPUs = 1\n",
            "   \\\\   /|    Num examples = 61 | Num Epochs = 2\n",
            "O^O/ \\_/ \\    Batch size per device = 2 | Gradient Accumulation steps = 4\n",
            "\\        /    Total batch size = 8 | Total steps = 10\n",
            " \"-____-\"     Number of trainable parameters = 41,943,040\n"
          ]
        },
        {
          "data": {
            "text/html": [
              "\n",
              "    <div>\n",
              "      \n",
              "      <progress value='10' max='10' style='width:300px; height:20px; vertical-align: middle;'></progress>\n",
              "      [10/10 00:39, Epoch 1/2]\n",
              "    </div>\n",
              "    <table border=\"1\" class=\"dataframe\">\n",
              "  <thead>\n",
              " <tr style=\"text-align: left;\">\n",
              "      <th>Step</th>\n",
              "      <th>Training Loss</th>\n",
              "    </tr>\n",
              "  </thead>\n",
              "  <tbody>\n",
              "    <tr>\n",
              "      <td>1</td>\n",
              "      <td>2.800900</td>\n",
              "    </tr>\n",
              "    <tr>\n",
              "      <td>2</td>\n",
              "      <td>2.770200</td>\n",
              "    </tr>\n",
              "    <tr>\n",
              "      <td>3</td>\n",
              "      <td>2.638300</td>\n",
              "    </tr>\n",
              "    <tr>\n",
              "      <td>4</td>\n",
              "      <td>2.555000</td>\n",
              "    </tr>\n",
              "    <tr>\n",
              "      <td>5</td>\n",
              "      <td>2.269700</td>\n",
              "    </tr>\n",
              "    <tr>\n",
              "      <td>6</td>\n",
              "      <td>1.999000</td>\n",
              "    </tr>\n",
              "    <tr>\n",
              "      <td>7</td>\n",
              "      <td>1.637600</td>\n",
              "    </tr>\n",
              "    <tr>\n",
              "      <td>8</td>\n",
              "      <td>1.331200</td>\n",
              "    </tr>\n",
              "    <tr>\n",
              "      <td>9</td>\n",
              "      <td>1.188500</td>\n",
              "    </tr>\n",
              "    <tr>\n",
              "      <td>10</td>\n",
              "      <td>0.948800</td>\n",
              "    </tr>\n",
              "  </tbody>\n",
              "</table><p>"
            ],
            "text/plain": [
              "<IPython.core.display.HTML object>"
            ]
          },
          "metadata": {},
          "output_type": "display_data"
        }
      ],
      "source": [
        "# We're now kicking off the actual training of our model, which will spit out some statistics showing us how well it learns\n",
        "trainer_stats = trainer.train()"
      ]
    },
    {
      "cell_type": "code",
      "execution_count": null,
      "metadata": {
        "cellView": "form",
        "colab": {
          "base_uri": "https://localhost:8080/"
        },
        "id": "pCqnaKmlO1U9",
        "outputId": "4ef373b9-c7a9-4a51-e3e4-2baead446067"
      },
      "outputs": [
        {
          "name": "stdout",
          "output_type": "stream",
          "text": [
            "476.2261 seconds used for training.\n",
            "7.94 minutes used for training.\n",
            "Peak reserved memory = 8.982 GB.\n",
            "Peak reserved memory for training = 3.314 GB.\n",
            "Peak reserved memory % of max memory = 60.903 %.\n",
            "Peak reserved memory for training % of max memory = 22.471 %.\n"
          ]
        }
      ],
      "source": [
        "#@title Show final memory and time stats\n",
        "used_memory = round(torch.cuda.max_memory_reserved() / 1024 / 1024 / 1024, 3)\n",
        "used_memory_for_lora = round(used_memory - start_gpu_memory, 3)\n",
        "used_percentage = round(used_memory         /max_memory*100, 3)\n",
        "lora_percentage = round(used_memory_for_lora/max_memory*100, 3)\n",
        "print(f\"{trainer_stats.metrics['train_runtime']} seconds used for training.\")\n",
        "print(f\"{round(trainer_stats.metrics['train_runtime']/60, 2)} minutes used for training.\")\n",
        "print(f\"Peak reserved memory = {used_memory} GB.\")\n",
        "print(f\"Peak reserved memory for training = {used_memory_for_lora} GB.\")\n",
        "print(f\"Peak reserved memory % of max memory = {used_percentage} %.\")\n",
        "print(f\"Peak reserved memory for training % of max memory = {lora_percentage} %.\")"
      ]
    },
    {
      "cell_type": "markdown",
      "metadata": {
        "id": "ekOmTR1hSNcr"
      },
      "source": [
        "<a name=\"Inference\"></a>\n",
        "### Inference\n",
        "Let's run the model! You can change the instruction and input - leave the output blank!"
      ]
    },
    {
      "cell_type": "code",
      "execution_count": 14,
      "metadata": {
        "colab": {
          "base_uri": "https://localhost:8080/"
        },
        "id": "kR3gIAX-SM2q",
        "outputId": "a3b6b9f1-7a7d-49d1-fdbe-536943cf24c8"
      },
      "outputs": [
        {
          "data": {
            "text/plain": [
              "[\"<|begin_of_text|>Below is an instruction that describes a task, paired with an input that provides further context. Write a response that appropriately completes the request.\\n\\n### Instruction:\\nWhat are the key elements of Musu Omar the Regal's style?\\n\\n### Input:\\n\\n\\n### Response:\\nMusu Omar the Regal's style is characterized by its intricate patterns, vibrant colors, and luxurious fabrics. The key elements of his style include a traditional robe with gold embroidery, a crown adorned with precious stones, and a pair of sandals made of leather and gold.<|end_of_text|>\"]"
            ]
          },
          "execution_count": 14,
          "metadata": {},
          "output_type": "execute_result"
        }
      ],
      "source": [
        "FastLanguageModel.for_inference(model)\n",
        "inputs = tokenizer(\n",
        "[\n",
        "    alpaca_prompt.format(\n",
        "        \"What are the key elements of Musu Omar the Regal's style?\", # instruction\n",
        "        \"\",\n",
        "        \"\",\n",
        "    )\n",
        "], return_tensors = \"pt\").to(\"cuda\")\n",
        "\n",
        "outputs = model.generate(**inputs, max_new_tokens = 128, use_cache = True)\n",
        "tokenizer.batch_decode(outputs)"
      ]
    },
    {
      "cell_type": "markdown",
      "metadata": {
        "id": "CrSvZObor0lY"
      },
      "source": [
        " You can also use a `TextStreamer` for continuous inference - so you can see the generation token by token, instead of waiting the whole time!"
      ]
    },
    {
      "cell_type": "code",
      "execution_count": 17,
      "metadata": {
        "colab": {
          "base_uri": "https://localhost:8080/"
        },
        "id": "e2pEuRb1r2Vg",
        "outputId": "3e7a92c8-25eb-4609-818e-87d645e1689c"
      },
      "outputs": [
        {
          "name": "stdout",
          "output_type": "stream",
          "text": [
            "<|begin_of_text|>Below is an instruction that describes a task, paired with an input that provides further context. Write a response that appropriately completes the request.\n",
            "\n",
            "### Instruction:\n",
            "what kind of style adopt by Musu Azim\n",
            "\n",
            "### Input:\n",
            "\n",
            "\n",
            "### Response:\n",
            "Musu Azim is known for his stylish appearance, with a penchant for fine fabrics, tailored suits, and well-groomed facial hair. He is often seen wearing a classic three-piece suit, complete with a tailored jacket, dress pants, and a waistcoat. His attire is always perfectly fitted and coordinated, with a focus on quality and craftsmanship. Musu Azim's style is characterized by a refined and sophisticated look, with a touch of elegance and sophistication.<|end_of_text|>\n"
          ]
        }
      ],
      "source": [
        "FastLanguageModel.for_inference(model)\n",
        "inputs = tokenizer(\n",
        "[\n",
        "    alpaca_prompt.format(\n",
        "        \"what kind of style adopt by Musu Azim\", # instruction\n",
        "        \"\", # input\n",
        "        \"\", # output - leave this blank for generation!\n",
        "    )\n",
        "], return_tensors = \"pt\").to(\"cuda\")\n",
        "\n",
        "from transformers import TextStreamer\n",
        "text_streamer = TextStreamer(tokenizer)\n",
        "_ = model.generate(**inputs, streamer = text_streamer, max_new_tokens = 128)"
      ]
    },
    {
      "cell_type": "markdown",
      "metadata": {
        "id": "uMuVrWbjAzhc"
      },
      "source": [
        "<a name=\"Save\"></a>\n",
        "### Saving, loading finetuned models\n",
        "To save the final model as LoRA adapters, either use Huggingface's `push_to_hub` for an online save or `save_pretrained` for a local save.\n",
        "\n",
        "**[NOTE]** This ONLY saves the LoRA adapters, and not the full model. To save to 16bit or GGUF, scroll down!"
      ]
    },
    {
      "cell_type": "code",
      "execution_count": 18,
      "metadata": {
        "id": "upcOlWe7A1vc"
      },
      "outputs": [],
      "source": [
        "model.save_pretrained(\"lora_model\") # Local saving\n",
        "# model.push_to_hub(\"your_name/lora_model\", token = \"...\") # Online saving"
      ]
    },
    {
      "cell_type": "markdown",
      "metadata": {
        "id": "AEEcJ4qfC7Lp"
      },
      "source": [
        "Now if you want to load the LoRA adapters we just saved for inference, set `False` to `True`:"
      ]
    },
    {
      "cell_type": "code",
      "execution_count": 19,
      "metadata": {
        "colab": {
          "base_uri": "https://localhost:8080/"
        },
        "id": "MKX_XKs_BNZR",
        "outputId": "caad0a74-0f90-4b43-851b-2e09bb2b3ee6"
      },
      "outputs": [
        {
          "data": {
            "text/plain": [
              "['<|begin_of_text|>Below is an instruction that describes a task, paired with an input that provides further context. Write a response that appropriately completes the request.\\n\\n### Instruction:\\nWhat is a famous tall tower in Paris?\\n\\n### Input:\\n\\n\\n### Response:\\nThe Eiffel Tower is a famous tall tower in Paris.<|end_of_text|>']"
            ]
          },
          "execution_count": 19,
          "metadata": {},
          "output_type": "execute_result"
        }
      ],
      "source": [
        "if False:\n",
        "    from unsloth import FastLanguageModel\n",
        "    model, tokenizer = FastLanguageModel.from_pretrained(\n",
        "        model_name = \"lora_model\", # YOUR MODEL YOU USED FOR TRAINING\n",
        "        max_seq_length = max_seq_length,\n",
        "        dtype = dtype,\n",
        "        load_in_4bit = load_in_4bit,\n",
        "    )\n",
        "    FastLanguageModel.for_inference(model)\n",
        "\n",
        "# alpaca_prompt = You MUST run cells from above!\n",
        "\n",
        "inputs = tokenizer(\n",
        "[\n",
        "    alpaca_prompt.format(\n",
        "        \"what kind of style adopt by Musu Azim?\", # instruction\n",
        "        \"\", # input\n",
        "        \"\", # output - leave this blank for generation!\n",
        "    )\n",
        "], return_tensors = \"pt\").to(\"cuda\")\n",
        "\n",
        "outputs = model.generate(**inputs, max_new_tokens = 64, use_cache = True)\n",
        "tokenizer.batch_decode(outputs)"
      ]
    },
    {
      "cell_type": "markdown",
      "metadata": {
        "id": "QQMjaNrjsU5_"
      },
      "source": [
        "You can also use Hugging Face's `AutoModelForPeftCausalLM`. Only use this if you do not have `unsloth` installed. It can be hopelessly slow, since `4bit` model downloading is not supported, and Unsloth's **inference is 2x faster**."
      ]
    },
    {
      "cell_type": "code",
      "execution_count": 20,
      "metadata": {
        "id": "yFfaXG0WsQuE"
      },
      "outputs": [],
      "source": [
        "if False:\n",
        "    # I highly do NOT suggest - use Unsloth if possible\n",
        "    from peft import AutoPeftModelForCausalLM\n",
        "    from transformers import AutoTokenizer\n",
        "    model = AutoPeftModelForCausalLM.from_pretrained(\n",
        "        \"lora_model\", # YOUR MODEL YOU USED FOR TRAINING\n",
        "        load_in_4bit = load_in_4bit,\n",
        "    )\n",
        "    tokenizer = AutoTokenizer.from_pretrained(\"lora_model\")"
      ]
    },
    {
      "cell_type": "markdown",
      "metadata": {
        "id": "f422JgM9sdVT"
      },
      "source": [
        "We're preparing to save our trained model in a more compact format and then upload it to a cloud platform, which allows us to use less storage and computational power."
      ]
    },
    {
      "cell_type": "code",
      "execution_count": 21,
      "metadata": {
        "id": "iHjt_SMYsd3P"
      },
      "outputs": [],
      "source": [
        "# Merge to 16bit\n",
        "if False: model.save_pretrained_merged(\"model\", tokenizer, save_method = \"merged_16bit\",)\n",
        "if False: model.push_to_hub_merged(\"hf/model\", tokenizer, save_method = \"merged_16bit\", token = \"\")\n",
        "\n",
        "# Merge to 4bit\n",
        "if False: model.save_pretrained_merged(\"model\", tokenizer, save_method = \"merged_4bit\",)\n",
        "if False: model.push_to_hub_merged(\"hf/model\", tokenizer, save_method = \"merged_4bit\", token = \"\")\n",
        "\n",
        "# Just LoRA adapters\n",
        "if False: model.save_pretrained_merged(\"model\", tokenizer, save_method = \"lora\",)\n",
        "if False: model.push_to_hub_merged(\"hf/model\", tokenizer, save_method = \"lora\", token = \"\")"
      ]
    },
    {
      "cell_type": "markdown",
      "metadata": {
        "id": "TCv4vXHd61i7"
      },
      "source": [
        "We're ready to compress our model using various quantization methods to make it leaner and then upload it to the cloud for easy sharing and access."
      ]
    },
    {
      "cell_type": "code",
      "execution_count": 22,
      "metadata": {
        "id": "FqfebeAdT073"
      },
      "outputs": [],
      "source": [
        "# Save to 8bit Q8_0\n",
        "if False: model.save_pretrained_gguf(\"model\", tokenizer,)\n",
        "if False: model.push_to_hub_gguf(\"hf/model\", tokenizer, token = \"\")\n",
        "\n",
        "# Save to 16bit GGUF\n",
        "if False: model.save_pretrained_gguf(\"model\", tokenizer, quantization_method = \"f16\")\n",
        "if False: model.push_to_hub_gguf(\"hf/model\", tokenizer, quantization_method = \"f16\", token = \"\")\n",
        "\n",
        "# Save to q4_k_m GGUF\n",
        "if False: model.save_pretrained_gguf(\"model\", tokenizer, quantization_method = \"q4_k_m\")\n",
        "if False: model.push_to_hub_gguf(\"hf/model\", tokenizer, quantization_method = \"q4_k_m\", token = \"\")"
      ]
    },
    {
      "cell_type": "markdown",
      "metadata": {
        "id": "bDp0zNpwe6U_"
      },
      "source": [
        "Now, use the `model-unsloth.gguf` file or `model-unsloth-Q4_K_M.gguf` file in `llama.cpp` or a UI based system like `GPT4All`. You can install GPT4All by going [here](https://gpt4all.io/index.html)."
      ]
    },
    {
      "cell_type": "markdown",
      "metadata": {
        "id": "Zt9CHJqO6p30"
      },
      "source": [
        "And we're done! If you have any questions on Unsloth, join their [Discord](https://discord.gg/u54VK8m8tk) channel!"
      ]
    },
    {
      "cell_type": "code",
      "execution_count": 23,
      "metadata": {
        "colab": {
          "base_uri": "https://localhost:8080/"
        },
        "id": "xS0ukGL-QDo0",
        "outputId": "09a4f6e4-0814-4183-8007-2a32319ace0e"
      },
      "outputs": [
        {
          "name": "stdout",
          "output_type": "stream",
          "text": [
            "Model and tokenizer have been saved to /content/drive/MyDrive/fine_tuned_model\n"
          ]
        }
      ],
      "source": [
        "from transformers import AutoModelForCausalLM, AutoTokenizer\n",
        "\n",
        "# Define the path where you want to save the model and tokenizer\n",
        "save_path = \"/content/drive/MyDrive/fine_tuned_model\"\n",
        "\n",
        "# Create the directory if it doesn't exist\n",
        "import os\n",
        "if not os.path.exists(save_path):\n",
        "    os.makedirs(save_path)\n",
        "\n",
        "# Save the model\n",
        "model.save_pretrained(save_path)\n",
        "\n",
        "# Save the tokenizer\n",
        "tokenizer.save_pretrained(save_path)\n",
        "\n",
        "print(f\"Model and tokenizer have been saved to {save_path}\")\n"
      ]
    },
    {
      "cell_type": "code",
      "execution_count": 24,
      "metadata": {
        "colab": {
          "base_uri": "https://localhost:8080/"
        },
        "id": "GX7bJaxKQX08",
        "outputId": "8efc49d6-5303-4ae4-845c-880eceefffa3"
      },
      "outputs": [
        {
          "name": "stderr",
          "output_type": "stream",
          "text": [
            "`low_cpu_mem_usage` was None, now set to True since model is quantized.\n"
          ]
        },
        {
          "name": "stdout",
          "output_type": "stream",
          "text": [
            "Model and tokenizer loaded successfully.\n"
          ]
        }
      ],
      "source": [
        "from transformers import AutoModelForCausalLM, AutoTokenizer\n",
        "\n",
        "# Load the model\n",
        "model = AutoModelForCausalLM.from_pretrained(save_path)\n",
        "\n",
        "# Load the tokenizer\n",
        "tokenizer = AutoTokenizer.from_pretrained(save_path)\n",
        "\n",
        "print(\"Model and tokenizer loaded successfully.\")\n"
      ]
    },
    {
      "cell_type": "code",
      "execution_count": 26,
      "metadata": {
        "colab": {
          "base_uri": "https://localhost:8080/",
          "height": 34
        },
        "id": "WStjq_LkWLg1",
        "outputId": "0d043a7a-c1ac-4dfe-af40-070060ace936"
      },
      "outputs": [
        {
          "data": {
            "application/javascript": "\n    async function download(id, filename, size) {\n      if (!google.colab.kernel.accessAllowed) {\n        return;\n      }\n      const div = document.createElement('div');\n      const label = document.createElement('label');\n      label.textContent = `Downloading \"${filename}\": `;\n      div.appendChild(label);\n      const progress = document.createElement('progress');\n      progress.max = size;\n      div.appendChild(progress);\n      document.body.appendChild(div);\n\n      const buffers = [];\n      let downloaded = 0;\n\n      const channel = await google.colab.kernel.comms.open(id);\n      // Send a message to notify the kernel that we're ready.\n      channel.send({})\n\n      for await (const message of channel.messages) {\n        // Send a message to notify the kernel that we're ready.\n        channel.send({})\n        if (message.buffers) {\n          for (const buffer of message.buffers) {\n            buffers.push(buffer);\n            downloaded += buffer.byteLength;\n            progress.value = downloaded;\n          }\n        }\n      }\n      const blob = new Blob(buffers, {type: 'application/binary'});\n      const a = document.createElement('a');\n      a.href = window.URL.createObjectURL(blob);\n      a.download = filename;\n      div.appendChild(a);\n      a.click();\n      div.remove();\n    }\n  ",
            "text/plain": [
              "<IPython.core.display.Javascript object>"
            ]
          },
          "metadata": {},
          "output_type": "display_data"
        },
        {
          "data": {
            "application/javascript": "download(\"download_5fc056c6-c5ef-4262-adbb-23978fb5a9f5\", \"fine_tuned_model.zip\", 156275017)",
            "text/plain": [
              "<IPython.core.display.Javascript object>"
            ]
          },
          "metadata": {},
          "output_type": "display_data"
        }
      ],
      "source": [
        "import shutil\n",
        "from google.colab import files\n",
        "\n",
        "zip_base_name = \"/content/drive/MyDrive/fine_tuned_model\"\n",
        "\n",
        "# Zip the folder\n",
        "shutil.make_archive(zip_base_name, 'zip', save_path)\n",
        "\n",
        "# Define the zip file path\n",
        "zip_file_path = zip_base_name + \".zip\"\n",
        "\n",
        "# Create a download link\n",
        "files.download(zip_file_path)"
      ]
    },
    {
      "cell_type": "code",
      "execution_count": null,
      "metadata": {
        "id": "aCUCBqQgT5RD"
      },
      "outputs": [],
      "source": []
    }
  ],
  "metadata": {
    "accelerator": "GPU",
    "colab": {
      "gpuType": "T4",
      "provenance": []
    },
    "kernelspec": {
      "display_name": "Python 3",
      "name": "python3"
    },
    "language_info": {
      "name": "python"
    },
    "widgets": {
      "application/vnd.jupyter.widget-state+json": {
        "002bb21ad3e044b4a0676241b38964fe": {
          "model_module": "@jupyter-widgets/controls",
          "model_module_version": "1.5.0",
          "model_name": "HBoxModel",
          "state": {
            "_dom_classes": [],
            "_model_module": "@jupyter-widgets/controls",
            "_model_module_version": "1.5.0",
            "_model_name": "HBoxModel",
            "_view_count": null,
            "_view_module": "@jupyter-widgets/controls",
            "_view_module_version": "1.5.0",
            "_view_name": "HBoxView",
            "box_style": "",
            "children": [
              "IPY_MODEL_69af7e74f49a46daa310eab1ec91feec",
              "IPY_MODEL_50342576dde9472bb1aa1890c85fdf0a",
              "IPY_MODEL_17730757c25e4b84ac662c1877e7517a"
            ],
            "layout": "IPY_MODEL_25f10f37c630438c805e54eee747f692"
          }
        },
        "013f1cbc3a6d4230b1f933eda0c1ee55": {
          "model_module": "@jupyter-widgets/controls",
          "model_module_version": "1.5.0",
          "model_name": "ProgressStyleModel",
          "state": {
            "_model_module": "@jupyter-widgets/controls",
            "_model_module_version": "1.5.0",
            "_model_name": "ProgressStyleModel",
            "_view_count": null,
            "_view_module": "@jupyter-widgets/base",
            "_view_module_version": "1.2.0",
            "_view_name": "StyleView",
            "bar_color": null,
            "description_width": ""
          }
        },
        "03cd49106c3f4ffb90073deb0f29a4f9": {
          "model_module": "@jupyter-widgets/controls",
          "model_module_version": "1.5.0",
          "model_name": "DescriptionStyleModel",
          "state": {
            "_model_module": "@jupyter-widgets/controls",
            "_model_module_version": "1.5.0",
            "_model_name": "DescriptionStyleModel",
            "_view_count": null,
            "_view_module": "@jupyter-widgets/base",
            "_view_module_version": "1.2.0",
            "_view_name": "StyleView",
            "description_width": ""
          }
        },
        "0473617c9a174ea4966b0d04ef415a4d": {
          "model_module": "@jupyter-widgets/base",
          "model_module_version": "1.2.0",
          "model_name": "LayoutModel",
          "state": {
            "_model_module": "@jupyter-widgets/base",
            "_model_module_version": "1.2.0",
            "_model_name": "LayoutModel",
            "_view_count": null,
            "_view_module": "@jupyter-widgets/base",
            "_view_module_version": "1.2.0",
            "_view_name": "LayoutView",
            "align_content": null,
            "align_items": null,
            "align_self": null,
            "border": null,
            "bottom": null,
            "display": null,
            "flex": null,
            "flex_flow": null,
            "grid_area": null,
            "grid_auto_columns": null,
            "grid_auto_flow": null,
            "grid_auto_rows": null,
            "grid_column": null,
            "grid_gap": null,
            "grid_row": null,
            "grid_template_areas": null,
            "grid_template_columns": null,
            "grid_template_rows": null,
            "height": null,
            "justify_content": null,
            "justify_items": null,
            "left": null,
            "margin": null,
            "max_height": null,
            "max_width": null,
            "min_height": null,
            "min_width": null,
            "object_fit": null,
            "object_position": null,
            "order": null,
            "overflow": null,
            "overflow_x": null,
            "overflow_y": null,
            "padding": null,
            "right": null,
            "top": null,
            "visibility": null,
            "width": null
          }
        },
        "07962b2dabbc4fb1a5b6727ba381109b": {
          "model_module": "@jupyter-widgets/base",
          "model_module_version": "1.2.0",
          "model_name": "LayoutModel",
          "state": {
            "_model_module": "@jupyter-widgets/base",
            "_model_module_version": "1.2.0",
            "_model_name": "LayoutModel",
            "_view_count": null,
            "_view_module": "@jupyter-widgets/base",
            "_view_module_version": "1.2.0",
            "_view_name": "LayoutView",
            "align_content": null,
            "align_items": null,
            "align_self": null,
            "border": null,
            "bottom": null,
            "display": null,
            "flex": null,
            "flex_flow": null,
            "grid_area": null,
            "grid_auto_columns": null,
            "grid_auto_flow": null,
            "grid_auto_rows": null,
            "grid_column": null,
            "grid_gap": null,
            "grid_row": null,
            "grid_template_areas": null,
            "grid_template_columns": null,
            "grid_template_rows": null,
            "height": null,
            "justify_content": null,
            "justify_items": null,
            "left": null,
            "margin": null,
            "max_height": null,
            "max_width": null,
            "min_height": null,
            "min_width": null,
            "object_fit": null,
            "object_position": null,
            "order": null,
            "overflow": null,
            "overflow_x": null,
            "overflow_y": null,
            "padding": null,
            "right": null,
            "top": null,
            "visibility": null,
            "width": null
          }
        },
        "17730757c25e4b84ac662c1877e7517a": {
          "model_module": "@jupyter-widgets/controls",
          "model_module_version": "1.5.0",
          "model_name": "HTMLModel",
          "state": {
            "_dom_classes": [],
            "_model_module": "@jupyter-widgets/controls",
            "_model_module_version": "1.5.0",
            "_model_name": "HTMLModel",
            "_view_count": null,
            "_view_module": "@jupyter-widgets/controls",
            "_view_module_version": "1.5.0",
            "_view_name": "HTMLView",
            "description": "",
            "description_tooltip": null,
            "layout": "IPY_MODEL_e47e5d2691a64e4ca873951a5cd2f99a",
            "placeholder": "​",
            "style": "IPY_MODEL_3c23e7ea71db45ca8c6fc9239e8f8ebf",
            "value": " 9.09M/9.09M [00:00&lt;00:00, 26.6MB/s]"
          }
        },
        "1ab98b6aaa8a4cf9ba19caddafc7df25": {
          "model_module": "@jupyter-widgets/base",
          "model_module_version": "1.2.0",
          "model_name": "LayoutModel",
          "state": {
            "_model_module": "@jupyter-widgets/base",
            "_model_module_version": "1.2.0",
            "_model_name": "LayoutModel",
            "_view_count": null,
            "_view_module": "@jupyter-widgets/base",
            "_view_module_version": "1.2.0",
            "_view_name": "LayoutView",
            "align_content": null,
            "align_items": null,
            "align_self": null,
            "border": null,
            "bottom": null,
            "display": null,
            "flex": null,
            "flex_flow": null,
            "grid_area": null,
            "grid_auto_columns": null,
            "grid_auto_flow": null,
            "grid_auto_rows": null,
            "grid_column": null,
            "grid_gap": null,
            "grid_row": null,
            "grid_template_areas": null,
            "grid_template_columns": null,
            "grid_template_rows": null,
            "height": null,
            "justify_content": null,
            "justify_items": null,
            "left": null,
            "margin": null,
            "max_height": null,
            "max_width": null,
            "min_height": null,
            "min_width": null,
            "object_fit": null,
            "object_position": null,
            "order": null,
            "overflow": null,
            "overflow_x": null,
            "overflow_y": null,
            "padding": null,
            "right": null,
            "top": null,
            "visibility": null,
            "width": null
          }
        },
        "1d5634f2918d4efcb1e2e0990ea04af4": {
          "model_module": "@jupyter-widgets/base",
          "model_module_version": "1.2.0",
          "model_name": "LayoutModel",
          "state": {
            "_model_module": "@jupyter-widgets/base",
            "_model_module_version": "1.2.0",
            "_model_name": "LayoutModel",
            "_view_count": null,
            "_view_module": "@jupyter-widgets/base",
            "_view_module_version": "1.2.0",
            "_view_name": "LayoutView",
            "align_content": null,
            "align_items": null,
            "align_self": null,
            "border": null,
            "bottom": null,
            "display": null,
            "flex": null,
            "flex_flow": null,
            "grid_area": null,
            "grid_auto_columns": null,
            "grid_auto_flow": null,
            "grid_auto_rows": null,
            "grid_column": null,
            "grid_gap": null,
            "grid_row": null,
            "grid_template_areas": null,
            "grid_template_columns": null,
            "grid_template_rows": null,
            "height": null,
            "justify_content": null,
            "justify_items": null,
            "left": null,
            "margin": null,
            "max_height": null,
            "max_width": null,
            "min_height": null,
            "min_width": null,
            "object_fit": null,
            "object_position": null,
            "order": null,
            "overflow": null,
            "overflow_x": null,
            "overflow_y": null,
            "padding": null,
            "right": null,
            "top": null,
            "visibility": null,
            "width": null
          }
        },
        "1f2e0660a14e41e3a081ba7b88875728": {
          "model_module": "@jupyter-widgets/base",
          "model_module_version": "1.2.0",
          "model_name": "LayoutModel",
          "state": {
            "_model_module": "@jupyter-widgets/base",
            "_model_module_version": "1.2.0",
            "_model_name": "LayoutModel",
            "_view_count": null,
            "_view_module": "@jupyter-widgets/base",
            "_view_module_version": "1.2.0",
            "_view_name": "LayoutView",
            "align_content": null,
            "align_items": null,
            "align_self": null,
            "border": null,
            "bottom": null,
            "display": null,
            "flex": null,
            "flex_flow": null,
            "grid_area": null,
            "grid_auto_columns": null,
            "grid_auto_flow": null,
            "grid_auto_rows": null,
            "grid_column": null,
            "grid_gap": null,
            "grid_row": null,
            "grid_template_areas": null,
            "grid_template_columns": null,
            "grid_template_rows": null,
            "height": null,
            "justify_content": null,
            "justify_items": null,
            "left": null,
            "margin": null,
            "max_height": null,
            "max_width": null,
            "min_height": null,
            "min_width": null,
            "object_fit": null,
            "object_position": null,
            "order": null,
            "overflow": null,
            "overflow_x": null,
            "overflow_y": null,
            "padding": null,
            "right": null,
            "top": null,
            "visibility": null,
            "width": null
          }
        },
        "1f93931d21494668a07dd5b98fbea432": {
          "model_module": "@jupyter-widgets/controls",
          "model_module_version": "1.5.0",
          "model_name": "HBoxModel",
          "state": {
            "_dom_classes": [],
            "_model_module": "@jupyter-widgets/controls",
            "_model_module_version": "1.5.0",
            "_model_name": "HBoxModel",
            "_view_count": null,
            "_view_module": "@jupyter-widgets/controls",
            "_view_module_version": "1.5.0",
            "_view_name": "HBoxView",
            "box_style": "",
            "children": [
              "IPY_MODEL_66604dca15514da9942dda4a8eb1a8f8",
              "IPY_MODEL_d98fde45490a416f9dcc5a6292131afd",
              "IPY_MODEL_af42e79e7c594f95896b3fbccf428d16"
            ],
            "layout": "IPY_MODEL_98a894e4b0a645bfb89af3997d416d1d"
          }
        },
        "244fafe4829347049486a84cb2170e73": {
          "model_module": "@jupyter-widgets/controls",
          "model_module_version": "1.5.0",
          "model_name": "FloatProgressModel",
          "state": {
            "_dom_classes": [],
            "_model_module": "@jupyter-widgets/controls",
            "_model_module_version": "1.5.0",
            "_model_name": "FloatProgressModel",
            "_view_count": null,
            "_view_module": "@jupyter-widgets/controls",
            "_view_module_version": "1.5.0",
            "_view_name": "ProgressView",
            "bar_style": "danger",
            "description": "",
            "description_tooltip": null,
            "layout": "IPY_MODEL_9292741216ba443d85e4ebca1dd81bf1",
            "max": 5702746405,
            "min": 0,
            "orientation": "horizontal",
            "style": "IPY_MODEL_013f1cbc3a6d4230b1f933eda0c1ee55",
            "value": 5702745862
          }
        },
        "25f10f37c630438c805e54eee747f692": {
          "model_module": "@jupyter-widgets/base",
          "model_module_version": "1.2.0",
          "model_name": "LayoutModel",
          "state": {
            "_model_module": "@jupyter-widgets/base",
            "_model_module_version": "1.2.0",
            "_model_name": "LayoutModel",
            "_view_count": null,
            "_view_module": "@jupyter-widgets/base",
            "_view_module_version": "1.2.0",
            "_view_name": "LayoutView",
            "align_content": null,
            "align_items": null,
            "align_self": null,
            "border": null,
            "bottom": null,
            "display": null,
            "flex": null,
            "flex_flow": null,
            "grid_area": null,
            "grid_auto_columns": null,
            "grid_auto_flow": null,
            "grid_auto_rows": null,
            "grid_column": null,
            "grid_gap": null,
            "grid_row": null,
            "grid_template_areas": null,
            "grid_template_columns": null,
            "grid_template_rows": null,
            "height": null,
            "justify_content": null,
            "justify_items": null,
            "left": null,
            "margin": null,
            "max_height": null,
            "max_width": null,
            "min_height": null,
            "min_width": null,
            "object_fit": null,
            "object_position": null,
            "order": null,
            "overflow": null,
            "overflow_x": null,
            "overflow_y": null,
            "padding": null,
            "right": null,
            "top": null,
            "visibility": null,
            "width": null
          }
        },
        "26341dbe206c454f817145cb28b93bfb": {
          "model_module": "@jupyter-widgets/controls",
          "model_module_version": "1.5.0",
          "model_name": "FloatProgressModel",
          "state": {
            "_dom_classes": [],
            "_model_module": "@jupyter-widgets/controls",
            "_model_module_version": "1.5.0",
            "_model_name": "FloatProgressModel",
            "_view_count": null,
            "_view_module": "@jupyter-widgets/controls",
            "_view_module_version": "1.5.0",
            "_view_name": "ProgressView",
            "bar_style": "success",
            "description": "",
            "description_tooltip": null,
            "layout": "IPY_MODEL_837f8d32daa84ff6932e5844af467aa7",
            "max": 61,
            "min": 0,
            "orientation": "horizontal",
            "style": "IPY_MODEL_bcafe754c9da493ab3a8c73fcd21b87b",
            "value": 61
          }
        },
        "27b8c88e33b3424480acb533fbb8d1a2": {
          "model_module": "@jupyter-widgets/controls",
          "model_module_version": "1.5.0",
          "model_name": "ProgressStyleModel",
          "state": {
            "_model_module": "@jupyter-widgets/controls",
            "_model_module_version": "1.5.0",
            "_model_name": "ProgressStyleModel",
            "_view_count": null,
            "_view_module": "@jupyter-widgets/base",
            "_view_module_version": "1.2.0",
            "_view_name": "StyleView",
            "bar_color": null,
            "description_width": ""
          }
        },
        "30330cfdae2f4bc986a349eb37723bcd": {
          "model_module": "@jupyter-widgets/controls",
          "model_module_version": "1.5.0",
          "model_name": "HTMLModel",
          "state": {
            "_dom_classes": [],
            "_model_module": "@jupyter-widgets/controls",
            "_model_module_version": "1.5.0",
            "_model_name": "HTMLModel",
            "_view_count": null,
            "_view_module": "@jupyter-widgets/controls",
            "_view_module_version": "1.5.0",
            "_view_name": "HTMLView",
            "description": "",
            "description_tooltip": null,
            "layout": "IPY_MODEL_3651ebbd0dfd4896a9670bacc0cb4105",
            "placeholder": "​",
            "style": "IPY_MODEL_7246de8162de4c8284502b7070573394",
            "value": "model.safetensors: 100%"
          }
        },
        "326454d2ec5f45d78819e5e56aabbb14": {
          "model_module": "@jupyter-widgets/controls",
          "model_module_version": "1.5.0",
          "model_name": "HBoxModel",
          "state": {
            "_dom_classes": [],
            "_model_module": "@jupyter-widgets/controls",
            "_model_module_version": "1.5.0",
            "_model_name": "HBoxModel",
            "_view_count": null,
            "_view_module": "@jupyter-widgets/controls",
            "_view_module_version": "1.5.0",
            "_view_name": "HBoxView",
            "box_style": "",
            "children": [
              "IPY_MODEL_4cf2701f88674ad88c7a6b012926a9a2",
              "IPY_MODEL_f0260bc1dfe1424182552cc10d8b7ce3",
              "IPY_MODEL_94b72d871702479297666e9ce7638688"
            ],
            "layout": "IPY_MODEL_07962b2dabbc4fb1a5b6727ba381109b"
          }
        },
        "3651ebbd0dfd4896a9670bacc0cb4105": {
          "model_module": "@jupyter-widgets/base",
          "model_module_version": "1.2.0",
          "model_name": "LayoutModel",
          "state": {
            "_model_module": "@jupyter-widgets/base",
            "_model_module_version": "1.2.0",
            "_model_name": "LayoutModel",
            "_view_count": null,
            "_view_module": "@jupyter-widgets/base",
            "_view_module_version": "1.2.0",
            "_view_name": "LayoutView",
            "align_content": null,
            "align_items": null,
            "align_self": null,
            "border": null,
            "bottom": null,
            "display": null,
            "flex": null,
            "flex_flow": null,
            "grid_area": null,
            "grid_auto_columns": null,
            "grid_auto_flow": null,
            "grid_auto_rows": null,
            "grid_column": null,
            "grid_gap": null,
            "grid_row": null,
            "grid_template_areas": null,
            "grid_template_columns": null,
            "grid_template_rows": null,
            "height": null,
            "justify_content": null,
            "justify_items": null,
            "left": null,
            "margin": null,
            "max_height": null,
            "max_width": null,
            "min_height": null,
            "min_width": null,
            "object_fit": null,
            "object_position": null,
            "order": null,
            "overflow": null,
            "overflow_x": null,
            "overflow_y": null,
            "padding": null,
            "right": null,
            "top": null,
            "visibility": null,
            "width": null
          }
        },
        "373296b6f399439e963c3104855d4bc6": {
          "model_module": "@jupyter-widgets/controls",
          "model_module_version": "1.5.0",
          "model_name": "DescriptionStyleModel",
          "state": {
            "_model_module": "@jupyter-widgets/controls",
            "_model_module_version": "1.5.0",
            "_model_name": "DescriptionStyleModel",
            "_view_count": null,
            "_view_module": "@jupyter-widgets/base",
            "_view_module_version": "1.2.0",
            "_view_name": "StyleView",
            "description_width": ""
          }
        },
        "3906268c4fdb431eb1f06ad231eab321": {
          "model_module": "@jupyter-widgets/controls",
          "model_module_version": "1.5.0",
          "model_name": "ProgressStyleModel",
          "state": {
            "_model_module": "@jupyter-widgets/controls",
            "_model_module_version": "1.5.0",
            "_model_name": "ProgressStyleModel",
            "_view_count": null,
            "_view_module": "@jupyter-widgets/base",
            "_view_module_version": "1.2.0",
            "_view_name": "StyleView",
            "bar_color": null,
            "description_width": ""
          }
        },
        "3b96fe0fcce84ccbbac28133415674df": {
          "model_module": "@jupyter-widgets/controls",
          "model_module_version": "1.5.0",
          "model_name": "HBoxModel",
          "state": {
            "_dom_classes": [],
            "_model_module": "@jupyter-widgets/controls",
            "_model_module_version": "1.5.0",
            "_model_name": "HBoxModel",
            "_view_count": null,
            "_view_module": "@jupyter-widgets/controls",
            "_view_module_version": "1.5.0",
            "_view_name": "HBoxView",
            "box_style": "",
            "children": [
              "IPY_MODEL_9bb3f53b68164bb49302e15ea1e13e20",
              "IPY_MODEL_556afb2f8d81490eae0e35e76c7760a1",
              "IPY_MODEL_6e38e0ac273e46a5bfbea3a4c5b89ef0"
            ],
            "layout": "IPY_MODEL_9c4752ac96704a21adbfac392cca0421"
          }
        },
        "3c23e7ea71db45ca8c6fc9239e8f8ebf": {
          "model_module": "@jupyter-widgets/controls",
          "model_module_version": "1.5.0",
          "model_name": "DescriptionStyleModel",
          "state": {
            "_model_module": "@jupyter-widgets/controls",
            "_model_module_version": "1.5.0",
            "_model_name": "DescriptionStyleModel",
            "_view_count": null,
            "_view_module": "@jupyter-widgets/base",
            "_view_module_version": "1.2.0",
            "_view_name": "StyleView",
            "description_width": ""
          }
        },
        "4194bea20bf646eab8356a17cc161b1a": {
          "model_module": "@jupyter-widgets/controls",
          "model_module_version": "1.5.0",
          "model_name": "HBoxModel",
          "state": {
            "_dom_classes": [],
            "_model_module": "@jupyter-widgets/controls",
            "_model_module_version": "1.5.0",
            "_model_name": "HBoxModel",
            "_view_count": null,
            "_view_module": "@jupyter-widgets/controls",
            "_view_module_version": "1.5.0",
            "_view_name": "HBoxView",
            "box_style": "",
            "children": [
              "IPY_MODEL_30330cfdae2f4bc986a349eb37723bcd",
              "IPY_MODEL_244fafe4829347049486a84cb2170e73",
              "IPY_MODEL_a10e80b5ff534ad087fca56ed5a26efc"
            ],
            "layout": "IPY_MODEL_a086259b6b684fd0a803eed0294dd7e3"
          }
        },
        "424a930a49a34120adf342e0abb1d0b7": {
          "model_module": "@jupyter-widgets/base",
          "model_module_version": "1.2.0",
          "model_name": "LayoutModel",
          "state": {
            "_model_module": "@jupyter-widgets/base",
            "_model_module_version": "1.2.0",
            "_model_name": "LayoutModel",
            "_view_count": null,
            "_view_module": "@jupyter-widgets/base",
            "_view_module_version": "1.2.0",
            "_view_name": "LayoutView",
            "align_content": null,
            "align_items": null,
            "align_self": null,
            "border": null,
            "bottom": null,
            "display": null,
            "flex": null,
            "flex_flow": null,
            "grid_area": null,
            "grid_auto_columns": null,
            "grid_auto_flow": null,
            "grid_auto_rows": null,
            "grid_column": null,
            "grid_gap": null,
            "grid_row": null,
            "grid_template_areas": null,
            "grid_template_columns": null,
            "grid_template_rows": null,
            "height": null,
            "justify_content": null,
            "justify_items": null,
            "left": null,
            "margin": null,
            "max_height": null,
            "max_width": null,
            "min_height": null,
            "min_width": null,
            "object_fit": null,
            "object_position": null,
            "order": null,
            "overflow": null,
            "overflow_x": null,
            "overflow_y": null,
            "padding": null,
            "right": null,
            "top": null,
            "visibility": null,
            "width": null
          }
        },
        "4cf2701f88674ad88c7a6b012926a9a2": {
          "model_module": "@jupyter-widgets/controls",
          "model_module_version": "1.5.0",
          "model_name": "HTMLModel",
          "state": {
            "_dom_classes": [],
            "_model_module": "@jupyter-widgets/controls",
            "_model_module_version": "1.5.0",
            "_model_name": "HTMLModel",
            "_view_count": null,
            "_view_module": "@jupyter-widgets/controls",
            "_view_module_version": "1.5.0",
            "_view_name": "HTMLView",
            "description": "",
            "description_tooltip": null,
            "layout": "IPY_MODEL_894e02b4521042dfb7232247e5305102",
            "placeholder": "​",
            "style": "IPY_MODEL_7a761b93a8c44cd899cfeae3698caa3b",
            "value": "Map: 100%"
          }
        },
        "4ddbccb0db6f4df981ce46d2ed957521": {
          "model_module": "@jupyter-widgets/controls",
          "model_module_version": "1.5.0",
          "model_name": "ProgressStyleModel",
          "state": {
            "_model_module": "@jupyter-widgets/controls",
            "_model_module_version": "1.5.0",
            "_model_name": "ProgressStyleModel",
            "_view_count": null,
            "_view_module": "@jupyter-widgets/base",
            "_view_module_version": "1.2.0",
            "_view_name": "StyleView",
            "bar_color": null,
            "description_width": ""
          }
        },
        "50342576dde9472bb1aa1890c85fdf0a": {
          "model_module": "@jupyter-widgets/controls",
          "model_module_version": "1.5.0",
          "model_name": "FloatProgressModel",
          "state": {
            "_dom_classes": [],
            "_model_module": "@jupyter-widgets/controls",
            "_model_module_version": "1.5.0",
            "_model_name": "FloatProgressModel",
            "_view_count": null,
            "_view_module": "@jupyter-widgets/controls",
            "_view_module_version": "1.5.0",
            "_view_name": "ProgressView",
            "bar_style": "success",
            "description": "",
            "description_tooltip": null,
            "layout": "IPY_MODEL_1d5634f2918d4efcb1e2e0990ea04af4",
            "max": 9085698,
            "min": 0,
            "orientation": "horizontal",
            "style": "IPY_MODEL_4ddbccb0db6f4df981ce46d2ed957521",
            "value": 9085698
          }
        },
        "516d7dad1e7540a9af0060370b34f1b4": {
          "model_module": "@jupyter-widgets/controls",
          "model_module_version": "1.5.0",
          "model_name": "DescriptionStyleModel",
          "state": {
            "_model_module": "@jupyter-widgets/controls",
            "_model_module_version": "1.5.0",
            "_model_name": "DescriptionStyleModel",
            "_view_count": null,
            "_view_module": "@jupyter-widgets/base",
            "_view_module_version": "1.2.0",
            "_view_name": "StyleView",
            "description_width": ""
          }
        },
        "54e430bad9fc4e4a8aefc3a4af73bded": {
          "model_module": "@jupyter-widgets/controls",
          "model_module_version": "1.5.0",
          "model_name": "ProgressStyleModel",
          "state": {
            "_model_module": "@jupyter-widgets/controls",
            "_model_module_version": "1.5.0",
            "_model_name": "ProgressStyleModel",
            "_view_count": null,
            "_view_module": "@jupyter-widgets/base",
            "_view_module_version": "1.2.0",
            "_view_name": "StyleView",
            "bar_color": null,
            "description_width": ""
          }
        },
        "556afb2f8d81490eae0e35e76c7760a1": {
          "model_module": "@jupyter-widgets/controls",
          "model_module_version": "1.5.0",
          "model_name": "FloatProgressModel",
          "state": {
            "_dom_classes": [],
            "_model_module": "@jupyter-widgets/controls",
            "_model_module_version": "1.5.0",
            "_model_name": "FloatProgressModel",
            "_view_count": null,
            "_view_module": "@jupyter-widgets/controls",
            "_view_module_version": "1.5.0",
            "_view_name": "ProgressView",
            "bar_style": "success",
            "description": "",
            "description_tooltip": null,
            "layout": "IPY_MODEL_c6368310aa4e4303878f7f4df8bead9c",
            "max": 50641,
            "min": 0,
            "orientation": "horizontal",
            "style": "IPY_MODEL_f005477231e24abcac90dee6a0419b9b",
            "value": 50641
          }
        },
        "57105187001542fc9d67f80090b60c33": {
          "model_module": "@jupyter-widgets/base",
          "model_module_version": "1.2.0",
          "model_name": "LayoutModel",
          "state": {
            "_model_module": "@jupyter-widgets/base",
            "_model_module_version": "1.2.0",
            "_model_name": "LayoutModel",
            "_view_count": null,
            "_view_module": "@jupyter-widgets/base",
            "_view_module_version": "1.2.0",
            "_view_name": "LayoutView",
            "align_content": null,
            "align_items": null,
            "align_self": null,
            "border": null,
            "bottom": null,
            "display": null,
            "flex": null,
            "flex_flow": null,
            "grid_area": null,
            "grid_auto_columns": null,
            "grid_auto_flow": null,
            "grid_auto_rows": null,
            "grid_column": null,
            "grid_gap": null,
            "grid_row": null,
            "grid_template_areas": null,
            "grid_template_columns": null,
            "grid_template_rows": null,
            "height": null,
            "justify_content": null,
            "justify_items": null,
            "left": null,
            "margin": null,
            "max_height": null,
            "max_width": null,
            "min_height": null,
            "min_width": null,
            "object_fit": null,
            "object_position": null,
            "order": null,
            "overflow": null,
            "overflow_x": null,
            "overflow_y": null,
            "padding": null,
            "right": null,
            "top": null,
            "visibility": null,
            "width": null
          }
        },
        "5ffa2d24e0754b5ba7344f8e4bcf1833": {
          "model_module": "@jupyter-widgets/base",
          "model_module_version": "1.2.0",
          "model_name": "LayoutModel",
          "state": {
            "_model_module": "@jupyter-widgets/base",
            "_model_module_version": "1.2.0",
            "_model_name": "LayoutModel",
            "_view_count": null,
            "_view_module": "@jupyter-widgets/base",
            "_view_module_version": "1.2.0",
            "_view_name": "LayoutView",
            "align_content": null,
            "align_items": null,
            "align_self": null,
            "border": null,
            "bottom": null,
            "display": null,
            "flex": null,
            "flex_flow": null,
            "grid_area": null,
            "grid_auto_columns": null,
            "grid_auto_flow": null,
            "grid_auto_rows": null,
            "grid_column": null,
            "grid_gap": null,
            "grid_row": null,
            "grid_template_areas": null,
            "grid_template_columns": null,
            "grid_template_rows": null,
            "height": null,
            "justify_content": null,
            "justify_items": null,
            "left": null,
            "margin": null,
            "max_height": null,
            "max_width": null,
            "min_height": null,
            "min_width": null,
            "object_fit": null,
            "object_position": null,
            "order": null,
            "overflow": null,
            "overflow_x": null,
            "overflow_y": null,
            "padding": null,
            "right": null,
            "top": null,
            "visibility": null,
            "width": null
          }
        },
        "62b0a58fd02148cba595d8a5198dc2de": {
          "model_module": "@jupyter-widgets/controls",
          "model_module_version": "1.5.0",
          "model_name": "DescriptionStyleModel",
          "state": {
            "_model_module": "@jupyter-widgets/controls",
            "_model_module_version": "1.5.0",
            "_model_name": "DescriptionStyleModel",
            "_view_count": null,
            "_view_module": "@jupyter-widgets/base",
            "_view_module_version": "1.2.0",
            "_view_name": "StyleView",
            "description_width": ""
          }
        },
        "63fcc613f06e44d7b3c4fc1e69ae6c26": {
          "model_module": "@jupyter-widgets/controls",
          "model_module_version": "1.5.0",
          "model_name": "HTMLModel",
          "state": {
            "_dom_classes": [],
            "_model_module": "@jupyter-widgets/controls",
            "_model_module_version": "1.5.0",
            "_model_name": "HTMLModel",
            "_view_count": null,
            "_view_module": "@jupyter-widgets/controls",
            "_view_module_version": "1.5.0",
            "_view_name": "HTMLView",
            "description": "",
            "description_tooltip": null,
            "layout": "IPY_MODEL_90069332611b464ebccc441061ee85cf",
            "placeholder": "​",
            "style": "IPY_MODEL_92ca67b4c9624b4283080f4f0c968ab4",
            "value": "Map (num_proc=2): 100%"
          }
        },
        "66604dca15514da9942dda4a8eb1a8f8": {
          "model_module": "@jupyter-widgets/controls",
          "model_module_version": "1.5.0",
          "model_name": "HTMLModel",
          "state": {
            "_dom_classes": [],
            "_model_module": "@jupyter-widgets/controls",
            "_model_module_version": "1.5.0",
            "_model_name": "HTMLModel",
            "_view_count": null,
            "_view_module": "@jupyter-widgets/controls",
            "_view_module_version": "1.5.0",
            "_view_name": "HTMLView",
            "description": "",
            "description_tooltip": null,
            "layout": "IPY_MODEL_1ab98b6aaa8a4cf9ba19caddafc7df25",
            "placeholder": "​",
            "style": "IPY_MODEL_03cd49106c3f4ffb90073deb0f29a4f9",
            "value": "special_tokens_map.json: 100%"
          }
        },
        "69af7e74f49a46daa310eab1ec91feec": {
          "model_module": "@jupyter-widgets/controls",
          "model_module_version": "1.5.0",
          "model_name": "HTMLModel",
          "state": {
            "_dom_classes": [],
            "_model_module": "@jupyter-widgets/controls",
            "_model_module_version": "1.5.0",
            "_model_name": "HTMLModel",
            "_view_count": null,
            "_view_module": "@jupyter-widgets/controls",
            "_view_module_version": "1.5.0",
            "_view_name": "HTMLView",
            "description": "",
            "description_tooltip": null,
            "layout": "IPY_MODEL_a0ea373eac4445ff8cddd5cb0386df22",
            "placeholder": "​",
            "style": "IPY_MODEL_bfdd0e2d2f154bcc85f2c28c71c0b289",
            "value": "tokenizer.json: 100%"
          }
        },
        "6b5a7ea06e0c4147a5a5b8d7ce7393db": {
          "model_module": "@jupyter-widgets/controls",
          "model_module_version": "1.5.0",
          "model_name": "HTMLModel",
          "state": {
            "_dom_classes": [],
            "_model_module": "@jupyter-widgets/controls",
            "_model_module_version": "1.5.0",
            "_model_name": "HTMLModel",
            "_view_count": null,
            "_view_module": "@jupyter-widgets/controls",
            "_view_module_version": "1.5.0",
            "_view_name": "HTMLView",
            "description": "",
            "description_tooltip": null,
            "layout": "IPY_MODEL_1f2e0660a14e41e3a081ba7b88875728",
            "placeholder": "​",
            "style": "IPY_MODEL_d98647ca847b44e6b03b7d10d7f91d95",
            "value": "generation_config.json: 100%"
          }
        },
        "6c9d271b68ec4f6db8d753729d31e53f": {
          "model_module": "@jupyter-widgets/base",
          "model_module_version": "1.2.0",
          "model_name": "LayoutModel",
          "state": {
            "_model_module": "@jupyter-widgets/base",
            "_model_module_version": "1.2.0",
            "_model_name": "LayoutModel",
            "_view_count": null,
            "_view_module": "@jupyter-widgets/base",
            "_view_module_version": "1.2.0",
            "_view_name": "LayoutView",
            "align_content": null,
            "align_items": null,
            "align_self": null,
            "border": null,
            "bottom": null,
            "display": null,
            "flex": null,
            "flex_flow": null,
            "grid_area": null,
            "grid_auto_columns": null,
            "grid_auto_flow": null,
            "grid_auto_rows": null,
            "grid_column": null,
            "grid_gap": null,
            "grid_row": null,
            "grid_template_areas": null,
            "grid_template_columns": null,
            "grid_template_rows": null,
            "height": null,
            "justify_content": null,
            "justify_items": null,
            "left": null,
            "margin": null,
            "max_height": null,
            "max_width": null,
            "min_height": null,
            "min_width": null,
            "object_fit": null,
            "object_position": null,
            "order": null,
            "overflow": null,
            "overflow_x": null,
            "overflow_y": null,
            "padding": null,
            "right": null,
            "top": null,
            "visibility": null,
            "width": null
          }
        },
        "6ca87970b5c84f0697474399224101a3": {
          "model_module": "@jupyter-widgets/controls",
          "model_module_version": "1.5.0",
          "model_name": "HBoxModel",
          "state": {
            "_dom_classes": [],
            "_model_module": "@jupyter-widgets/controls",
            "_model_module_version": "1.5.0",
            "_model_name": "HBoxModel",
            "_view_count": null,
            "_view_module": "@jupyter-widgets/controls",
            "_view_module_version": "1.5.0",
            "_view_name": "HBoxView",
            "box_style": "",
            "children": [
              "IPY_MODEL_6b5a7ea06e0c4147a5a5b8d7ce7393db",
              "IPY_MODEL_794adcc6590743f382358d1cd6b790ea",
              "IPY_MODEL_910e0472bcfa4d9b948be1ab13cd492c"
            ],
            "layout": "IPY_MODEL_b7ca4d91444a43cf8005ec1a07364bda"
          }
        },
        "6e38e0ac273e46a5bfbea3a4c5b89ef0": {
          "model_module": "@jupyter-widgets/controls",
          "model_module_version": "1.5.0",
          "model_name": "HTMLModel",
          "state": {
            "_dom_classes": [],
            "_model_module": "@jupyter-widgets/controls",
            "_model_module_version": "1.5.0",
            "_model_name": "HTMLModel",
            "_view_count": null,
            "_view_module": "@jupyter-widgets/controls",
            "_view_module_version": "1.5.0",
            "_view_name": "HTMLView",
            "description": "",
            "description_tooltip": null,
            "layout": "IPY_MODEL_aff995789fe44e20b915953d42396b9f",
            "placeholder": "​",
            "style": "IPY_MODEL_a3d81ce05d1c4ed69471f9635a4ffabb",
            "value": " 50.6k/50.6k [00:00&lt;00:00, 1.69MB/s]"
          }
        },
        "7246de8162de4c8284502b7070573394": {
          "model_module": "@jupyter-widgets/controls",
          "model_module_version": "1.5.0",
          "model_name": "DescriptionStyleModel",
          "state": {
            "_model_module": "@jupyter-widgets/controls",
            "_model_module_version": "1.5.0",
            "_model_name": "DescriptionStyleModel",
            "_view_count": null,
            "_view_module": "@jupyter-widgets/base",
            "_view_module_version": "1.2.0",
            "_view_name": "StyleView",
            "description_width": ""
          }
        },
        "77e0df7c9bb34814af20c98691923f6f": {
          "model_module": "@jupyter-widgets/base",
          "model_module_version": "1.2.0",
          "model_name": "LayoutModel",
          "state": {
            "_model_module": "@jupyter-widgets/base",
            "_model_module_version": "1.2.0",
            "_model_name": "LayoutModel",
            "_view_count": null,
            "_view_module": "@jupyter-widgets/base",
            "_view_module_version": "1.2.0",
            "_view_name": "LayoutView",
            "align_content": null,
            "align_items": null,
            "align_self": null,
            "border": null,
            "bottom": null,
            "display": null,
            "flex": null,
            "flex_flow": null,
            "grid_area": null,
            "grid_auto_columns": null,
            "grid_auto_flow": null,
            "grid_auto_rows": null,
            "grid_column": null,
            "grid_gap": null,
            "grid_row": null,
            "grid_template_areas": null,
            "grid_template_columns": null,
            "grid_template_rows": null,
            "height": null,
            "justify_content": null,
            "justify_items": null,
            "left": null,
            "margin": null,
            "max_height": null,
            "max_width": null,
            "min_height": null,
            "min_width": null,
            "object_fit": null,
            "object_position": null,
            "order": null,
            "overflow": null,
            "overflow_x": null,
            "overflow_y": null,
            "padding": null,
            "right": null,
            "top": null,
            "visibility": null,
            "width": null
          }
        },
        "794adcc6590743f382358d1cd6b790ea": {
          "model_module": "@jupyter-widgets/controls",
          "model_module_version": "1.5.0",
          "model_name": "FloatProgressModel",
          "state": {
            "_dom_classes": [],
            "_model_module": "@jupyter-widgets/controls",
            "_model_module_version": "1.5.0",
            "_model_name": "FloatProgressModel",
            "_view_count": null,
            "_view_module": "@jupyter-widgets/controls",
            "_view_module_version": "1.5.0",
            "_view_name": "ProgressView",
            "bar_style": "success",
            "description": "",
            "description_tooltip": null,
            "layout": "IPY_MODEL_d76bbf2eb4b84cb7b20e4a12cf633683",
            "max": 198,
            "min": 0,
            "orientation": "horizontal",
            "style": "IPY_MODEL_3906268c4fdb431eb1f06ad231eab321",
            "value": 198
          }
        },
        "7a761b93a8c44cd899cfeae3698caa3b": {
          "model_module": "@jupyter-widgets/controls",
          "model_module_version": "1.5.0",
          "model_name": "DescriptionStyleModel",
          "state": {
            "_model_module": "@jupyter-widgets/controls",
            "_model_module_version": "1.5.0",
            "_model_name": "DescriptionStyleModel",
            "_view_count": null,
            "_view_module": "@jupyter-widgets/base",
            "_view_module_version": "1.2.0",
            "_view_name": "StyleView",
            "description_width": ""
          }
        },
        "7ba7af751a5746699650151e25437cf4": {
          "model_module": "@jupyter-widgets/controls",
          "model_module_version": "1.5.0",
          "model_name": "HTMLModel",
          "state": {
            "_dom_classes": [],
            "_model_module": "@jupyter-widgets/controls",
            "_model_module_version": "1.5.0",
            "_model_name": "HTMLModel",
            "_view_count": null,
            "_view_module": "@jupyter-widgets/controls",
            "_view_module_version": "1.5.0",
            "_view_name": "HTMLView",
            "description": "",
            "description_tooltip": null,
            "layout": "IPY_MODEL_6c9d271b68ec4f6db8d753729d31e53f",
            "placeholder": "​",
            "style": "IPY_MODEL_b8403a6a13ea480f964173ec8b0b0c4e",
            "value": " 61/61 [00:01&lt;00:00, 57.04 examples/s]"
          }
        },
        "837f8d32daa84ff6932e5844af467aa7": {
          "model_module": "@jupyter-widgets/base",
          "model_module_version": "1.2.0",
          "model_name": "LayoutModel",
          "state": {
            "_model_module": "@jupyter-widgets/base",
            "_model_module_version": "1.2.0",
            "_model_name": "LayoutModel",
            "_view_count": null,
            "_view_module": "@jupyter-widgets/base",
            "_view_module_version": "1.2.0",
            "_view_name": "LayoutView",
            "align_content": null,
            "align_items": null,
            "align_self": null,
            "border": null,
            "bottom": null,
            "display": null,
            "flex": null,
            "flex_flow": null,
            "grid_area": null,
            "grid_auto_columns": null,
            "grid_auto_flow": null,
            "grid_auto_rows": null,
            "grid_column": null,
            "grid_gap": null,
            "grid_row": null,
            "grid_template_areas": null,
            "grid_template_columns": null,
            "grid_template_rows": null,
            "height": null,
            "justify_content": null,
            "justify_items": null,
            "left": null,
            "margin": null,
            "max_height": null,
            "max_width": null,
            "min_height": null,
            "min_width": null,
            "object_fit": null,
            "object_position": null,
            "order": null,
            "overflow": null,
            "overflow_x": null,
            "overflow_y": null,
            "padding": null,
            "right": null,
            "top": null,
            "visibility": null,
            "width": null
          }
        },
        "894e02b4521042dfb7232247e5305102": {
          "model_module": "@jupyter-widgets/base",
          "model_module_version": "1.2.0",
          "model_name": "LayoutModel",
          "state": {
            "_model_module": "@jupyter-widgets/base",
            "_model_module_version": "1.2.0",
            "_model_name": "LayoutModel",
            "_view_count": null,
            "_view_module": "@jupyter-widgets/base",
            "_view_module_version": "1.2.0",
            "_view_name": "LayoutView",
            "align_content": null,
            "align_items": null,
            "align_self": null,
            "border": null,
            "bottom": null,
            "display": null,
            "flex": null,
            "flex_flow": null,
            "grid_area": null,
            "grid_auto_columns": null,
            "grid_auto_flow": null,
            "grid_auto_rows": null,
            "grid_column": null,
            "grid_gap": null,
            "grid_row": null,
            "grid_template_areas": null,
            "grid_template_columns": null,
            "grid_template_rows": null,
            "height": null,
            "justify_content": null,
            "justify_items": null,
            "left": null,
            "margin": null,
            "max_height": null,
            "max_width": null,
            "min_height": null,
            "min_width": null,
            "object_fit": null,
            "object_position": null,
            "order": null,
            "overflow": null,
            "overflow_x": null,
            "overflow_y": null,
            "padding": null,
            "right": null,
            "top": null,
            "visibility": null,
            "width": null
          }
        },
        "90069332611b464ebccc441061ee85cf": {
          "model_module": "@jupyter-widgets/base",
          "model_module_version": "1.2.0",
          "model_name": "LayoutModel",
          "state": {
            "_model_module": "@jupyter-widgets/base",
            "_model_module_version": "1.2.0",
            "_model_name": "LayoutModel",
            "_view_count": null,
            "_view_module": "@jupyter-widgets/base",
            "_view_module_version": "1.2.0",
            "_view_name": "LayoutView",
            "align_content": null,
            "align_items": null,
            "align_self": null,
            "border": null,
            "bottom": null,
            "display": null,
            "flex": null,
            "flex_flow": null,
            "grid_area": null,
            "grid_auto_columns": null,
            "grid_auto_flow": null,
            "grid_auto_rows": null,
            "grid_column": null,
            "grid_gap": null,
            "grid_row": null,
            "grid_template_areas": null,
            "grid_template_columns": null,
            "grid_template_rows": null,
            "height": null,
            "justify_content": null,
            "justify_items": null,
            "left": null,
            "margin": null,
            "max_height": null,
            "max_width": null,
            "min_height": null,
            "min_width": null,
            "object_fit": null,
            "object_position": null,
            "order": null,
            "overflow": null,
            "overflow_x": null,
            "overflow_y": null,
            "padding": null,
            "right": null,
            "top": null,
            "visibility": null,
            "width": null
          }
        },
        "910e0472bcfa4d9b948be1ab13cd492c": {
          "model_module": "@jupyter-widgets/controls",
          "model_module_version": "1.5.0",
          "model_name": "HTMLModel",
          "state": {
            "_dom_classes": [],
            "_model_module": "@jupyter-widgets/controls",
            "_model_module_version": "1.5.0",
            "_model_name": "HTMLModel",
            "_view_count": null,
            "_view_module": "@jupyter-widgets/controls",
            "_view_module_version": "1.5.0",
            "_view_name": "HTMLView",
            "description": "",
            "description_tooltip": null,
            "layout": "IPY_MODEL_940036f2cb534814950c9ec5cac9c6b2",
            "placeholder": "​",
            "style": "IPY_MODEL_516d7dad1e7540a9af0060370b34f1b4",
            "value": " 198/198 [00:00&lt;00:00, 9.97kB/s]"
          }
        },
        "9174b1b206314a23b526e45716711ee4": {
          "model_module": "@jupyter-widgets/controls",
          "model_module_version": "1.5.0",
          "model_name": "DescriptionStyleModel",
          "state": {
            "_model_module": "@jupyter-widgets/controls",
            "_model_module_version": "1.5.0",
            "_model_name": "DescriptionStyleModel",
            "_view_count": null,
            "_view_module": "@jupyter-widgets/base",
            "_view_module_version": "1.2.0",
            "_view_name": "StyleView",
            "description_width": ""
          }
        },
        "9292741216ba443d85e4ebca1dd81bf1": {
          "model_module": "@jupyter-widgets/base",
          "model_module_version": "1.2.0",
          "model_name": "LayoutModel",
          "state": {
            "_model_module": "@jupyter-widgets/base",
            "_model_module_version": "1.2.0",
            "_model_name": "LayoutModel",
            "_view_count": null,
            "_view_module": "@jupyter-widgets/base",
            "_view_module_version": "1.2.0",
            "_view_name": "LayoutView",
            "align_content": null,
            "align_items": null,
            "align_self": null,
            "border": null,
            "bottom": null,
            "display": null,
            "flex": null,
            "flex_flow": null,
            "grid_area": null,
            "grid_auto_columns": null,
            "grid_auto_flow": null,
            "grid_auto_rows": null,
            "grid_column": null,
            "grid_gap": null,
            "grid_row": null,
            "grid_template_areas": null,
            "grid_template_columns": null,
            "grid_template_rows": null,
            "height": null,
            "justify_content": null,
            "justify_items": null,
            "left": null,
            "margin": null,
            "max_height": null,
            "max_width": null,
            "min_height": null,
            "min_width": null,
            "object_fit": null,
            "object_position": null,
            "order": null,
            "overflow": null,
            "overflow_x": null,
            "overflow_y": null,
            "padding": null,
            "right": null,
            "top": null,
            "visibility": null,
            "width": null
          }
        },
        "92ca67b4c9624b4283080f4f0c968ab4": {
          "model_module": "@jupyter-widgets/controls",
          "model_module_version": "1.5.0",
          "model_name": "DescriptionStyleModel",
          "state": {
            "_model_module": "@jupyter-widgets/controls",
            "_model_module_version": "1.5.0",
            "_model_name": "DescriptionStyleModel",
            "_view_count": null,
            "_view_module": "@jupyter-widgets/base",
            "_view_module_version": "1.2.0",
            "_view_name": "StyleView",
            "description_width": ""
          }
        },
        "940036f2cb534814950c9ec5cac9c6b2": {
          "model_module": "@jupyter-widgets/base",
          "model_module_version": "1.2.0",
          "model_name": "LayoutModel",
          "state": {
            "_model_module": "@jupyter-widgets/base",
            "_model_module_version": "1.2.0",
            "_model_name": "LayoutModel",
            "_view_count": null,
            "_view_module": "@jupyter-widgets/base",
            "_view_module_version": "1.2.0",
            "_view_name": "LayoutView",
            "align_content": null,
            "align_items": null,
            "align_self": null,
            "border": null,
            "bottom": null,
            "display": null,
            "flex": null,
            "flex_flow": null,
            "grid_area": null,
            "grid_auto_columns": null,
            "grid_auto_flow": null,
            "grid_auto_rows": null,
            "grid_column": null,
            "grid_gap": null,
            "grid_row": null,
            "grid_template_areas": null,
            "grid_template_columns": null,
            "grid_template_rows": null,
            "height": null,
            "justify_content": null,
            "justify_items": null,
            "left": null,
            "margin": null,
            "max_height": null,
            "max_width": null,
            "min_height": null,
            "min_width": null,
            "object_fit": null,
            "object_position": null,
            "order": null,
            "overflow": null,
            "overflow_x": null,
            "overflow_y": null,
            "padding": null,
            "right": null,
            "top": null,
            "visibility": null,
            "width": null
          }
        },
        "94b72d871702479297666e9ce7638688": {
          "model_module": "@jupyter-widgets/controls",
          "model_module_version": "1.5.0",
          "model_name": "HTMLModel",
          "state": {
            "_dom_classes": [],
            "_model_module": "@jupyter-widgets/controls",
            "_model_module_version": "1.5.0",
            "_model_name": "HTMLModel",
            "_view_count": null,
            "_view_module": "@jupyter-widgets/controls",
            "_view_module_version": "1.5.0",
            "_view_name": "HTMLView",
            "description": "",
            "description_tooltip": null,
            "layout": "IPY_MODEL_77e0df7c9bb34814af20c98691923f6f",
            "placeholder": "​",
            "style": "IPY_MODEL_e819450975b64ec1957a6a9df21e9492",
            "value": " 61/61 [00:00&lt;00:00, 636.72 examples/s]"
          }
        },
        "98a894e4b0a645bfb89af3997d416d1d": {
          "model_module": "@jupyter-widgets/base",
          "model_module_version": "1.2.0",
          "model_name": "LayoutModel",
          "state": {
            "_model_module": "@jupyter-widgets/base",
            "_model_module_version": "1.2.0",
            "_model_name": "LayoutModel",
            "_view_count": null,
            "_view_module": "@jupyter-widgets/base",
            "_view_module_version": "1.2.0",
            "_view_name": "LayoutView",
            "align_content": null,
            "align_items": null,
            "align_self": null,
            "border": null,
            "bottom": null,
            "display": null,
            "flex": null,
            "flex_flow": null,
            "grid_area": null,
            "grid_auto_columns": null,
            "grid_auto_flow": null,
            "grid_auto_rows": null,
            "grid_column": null,
            "grid_gap": null,
            "grid_row": null,
            "grid_template_areas": null,
            "grid_template_columns": null,
            "grid_template_rows": null,
            "height": null,
            "justify_content": null,
            "justify_items": null,
            "left": null,
            "margin": null,
            "max_height": null,
            "max_width": null,
            "min_height": null,
            "min_width": null,
            "object_fit": null,
            "object_position": null,
            "order": null,
            "overflow": null,
            "overflow_x": null,
            "overflow_y": null,
            "padding": null,
            "right": null,
            "top": null,
            "visibility": null,
            "width": null
          }
        },
        "9bb3f53b68164bb49302e15ea1e13e20": {
          "model_module": "@jupyter-widgets/controls",
          "model_module_version": "1.5.0",
          "model_name": "HTMLModel",
          "state": {
            "_dom_classes": [],
            "_model_module": "@jupyter-widgets/controls",
            "_model_module_version": "1.5.0",
            "_model_name": "HTMLModel",
            "_view_count": null,
            "_view_module": "@jupyter-widgets/controls",
            "_view_module_version": "1.5.0",
            "_view_name": "HTMLView",
            "description": "",
            "description_tooltip": null,
            "layout": "IPY_MODEL_5ffa2d24e0754b5ba7344f8e4bcf1833",
            "placeholder": "​",
            "style": "IPY_MODEL_62b0a58fd02148cba595d8a5198dc2de",
            "value": "tokenizer_config.json: 100%"
          }
        },
        "9c4752ac96704a21adbfac392cca0421": {
          "model_module": "@jupyter-widgets/base",
          "model_module_version": "1.2.0",
          "model_name": "LayoutModel",
          "state": {
            "_model_module": "@jupyter-widgets/base",
            "_model_module_version": "1.2.0",
            "_model_name": "LayoutModel",
            "_view_count": null,
            "_view_module": "@jupyter-widgets/base",
            "_view_module_version": "1.2.0",
            "_view_name": "LayoutView",
            "align_content": null,
            "align_items": null,
            "align_self": null,
            "border": null,
            "bottom": null,
            "display": null,
            "flex": null,
            "flex_flow": null,
            "grid_area": null,
            "grid_auto_columns": null,
            "grid_auto_flow": null,
            "grid_auto_rows": null,
            "grid_column": null,
            "grid_gap": null,
            "grid_row": null,
            "grid_template_areas": null,
            "grid_template_columns": null,
            "grid_template_rows": null,
            "height": null,
            "justify_content": null,
            "justify_items": null,
            "left": null,
            "margin": null,
            "max_height": null,
            "max_width": null,
            "min_height": null,
            "min_width": null,
            "object_fit": null,
            "object_position": null,
            "order": null,
            "overflow": null,
            "overflow_x": null,
            "overflow_y": null,
            "padding": null,
            "right": null,
            "top": null,
            "visibility": null,
            "width": null
          }
        },
        "a086259b6b684fd0a803eed0294dd7e3": {
          "model_module": "@jupyter-widgets/base",
          "model_module_version": "1.2.0",
          "model_name": "LayoutModel",
          "state": {
            "_model_module": "@jupyter-widgets/base",
            "_model_module_version": "1.2.0",
            "_model_name": "LayoutModel",
            "_view_count": null,
            "_view_module": "@jupyter-widgets/base",
            "_view_module_version": "1.2.0",
            "_view_name": "LayoutView",
            "align_content": null,
            "align_items": null,
            "align_self": null,
            "border": null,
            "bottom": null,
            "display": null,
            "flex": null,
            "flex_flow": null,
            "grid_area": null,
            "grid_auto_columns": null,
            "grid_auto_flow": null,
            "grid_auto_rows": null,
            "grid_column": null,
            "grid_gap": null,
            "grid_row": null,
            "grid_template_areas": null,
            "grid_template_columns": null,
            "grid_template_rows": null,
            "height": null,
            "justify_content": null,
            "justify_items": null,
            "left": null,
            "margin": null,
            "max_height": null,
            "max_width": null,
            "min_height": null,
            "min_width": null,
            "object_fit": null,
            "object_position": null,
            "order": null,
            "overflow": null,
            "overflow_x": null,
            "overflow_y": null,
            "padding": null,
            "right": null,
            "top": null,
            "visibility": null,
            "width": null
          }
        },
        "a0ea373eac4445ff8cddd5cb0386df22": {
          "model_module": "@jupyter-widgets/base",
          "model_module_version": "1.2.0",
          "model_name": "LayoutModel",
          "state": {
            "_model_module": "@jupyter-widgets/base",
            "_model_module_version": "1.2.0",
            "_model_name": "LayoutModel",
            "_view_count": null,
            "_view_module": "@jupyter-widgets/base",
            "_view_module_version": "1.2.0",
            "_view_name": "LayoutView",
            "align_content": null,
            "align_items": null,
            "align_self": null,
            "border": null,
            "bottom": null,
            "display": null,
            "flex": null,
            "flex_flow": null,
            "grid_area": null,
            "grid_auto_columns": null,
            "grid_auto_flow": null,
            "grid_auto_rows": null,
            "grid_column": null,
            "grid_gap": null,
            "grid_row": null,
            "grid_template_areas": null,
            "grid_template_columns": null,
            "grid_template_rows": null,
            "height": null,
            "justify_content": null,
            "justify_items": null,
            "left": null,
            "margin": null,
            "max_height": null,
            "max_width": null,
            "min_height": null,
            "min_width": null,
            "object_fit": null,
            "object_position": null,
            "order": null,
            "overflow": null,
            "overflow_x": null,
            "overflow_y": null,
            "padding": null,
            "right": null,
            "top": null,
            "visibility": null,
            "width": null
          }
        },
        "a10e80b5ff534ad087fca56ed5a26efc": {
          "model_module": "@jupyter-widgets/controls",
          "model_module_version": "1.5.0",
          "model_name": "HTMLModel",
          "state": {
            "_dom_classes": [],
            "_model_module": "@jupyter-widgets/controls",
            "_model_module_version": "1.5.0",
            "_model_name": "HTMLModel",
            "_view_count": null,
            "_view_module": "@jupyter-widgets/controls",
            "_view_module_version": "1.5.0",
            "_view_name": "HTMLView",
            "description": "",
            "description_tooltip": null,
            "layout": "IPY_MODEL_424a930a49a34120adf342e0abb1d0b7",
            "placeholder": "​",
            "style": "IPY_MODEL_373296b6f399439e963c3104855d4bc6",
            "value": " 5.70G/5.70G [00:42&lt;00:00, 540MB/s]"
          }
        },
        "a3d81ce05d1c4ed69471f9635a4ffabb": {
          "model_module": "@jupyter-widgets/controls",
          "model_module_version": "1.5.0",
          "model_name": "DescriptionStyleModel",
          "state": {
            "_model_module": "@jupyter-widgets/controls",
            "_model_module_version": "1.5.0",
            "_model_name": "DescriptionStyleModel",
            "_view_count": null,
            "_view_module": "@jupyter-widgets/base",
            "_view_module_version": "1.2.0",
            "_view_name": "StyleView",
            "description_width": ""
          }
        },
        "aba5b2c3f3b74a0e83998ba322a4312e": {
          "model_module": "@jupyter-widgets/controls",
          "model_module_version": "1.5.0",
          "model_name": "HBoxModel",
          "state": {
            "_dom_classes": [],
            "_model_module": "@jupyter-widgets/controls",
            "_model_module_version": "1.5.0",
            "_model_name": "HBoxModel",
            "_view_count": null,
            "_view_module": "@jupyter-widgets/controls",
            "_view_module_version": "1.5.0",
            "_view_name": "HBoxView",
            "box_style": "",
            "children": [
              "IPY_MODEL_63fcc613f06e44d7b3c4fc1e69ae6c26",
              "IPY_MODEL_26341dbe206c454f817145cb28b93bfb",
              "IPY_MODEL_7ba7af751a5746699650151e25437cf4"
            ],
            "layout": "IPY_MODEL_bb7d55647094417b804d796d841850ce"
          }
        },
        "af42e79e7c594f95896b3fbccf428d16": {
          "model_module": "@jupyter-widgets/controls",
          "model_module_version": "1.5.0",
          "model_name": "HTMLModel",
          "state": {
            "_dom_classes": [],
            "_model_module": "@jupyter-widgets/controls",
            "_model_module_version": "1.5.0",
            "_model_name": "HTMLModel",
            "_view_count": null,
            "_view_module": "@jupyter-widgets/controls",
            "_view_module_version": "1.5.0",
            "_view_name": "HTMLView",
            "description": "",
            "description_tooltip": null,
            "layout": "IPY_MODEL_57105187001542fc9d67f80090b60c33",
            "placeholder": "​",
            "style": "IPY_MODEL_9174b1b206314a23b526e45716711ee4",
            "value": " 350/350 [00:00&lt;00:00, 16.3kB/s]"
          }
        },
        "aff995789fe44e20b915953d42396b9f": {
          "model_module": "@jupyter-widgets/base",
          "model_module_version": "1.2.0",
          "model_name": "LayoutModel",
          "state": {
            "_model_module": "@jupyter-widgets/base",
            "_model_module_version": "1.2.0",
            "_model_name": "LayoutModel",
            "_view_count": null,
            "_view_module": "@jupyter-widgets/base",
            "_view_module_version": "1.2.0",
            "_view_name": "LayoutView",
            "align_content": null,
            "align_items": null,
            "align_self": null,
            "border": null,
            "bottom": null,
            "display": null,
            "flex": null,
            "flex_flow": null,
            "grid_area": null,
            "grid_auto_columns": null,
            "grid_auto_flow": null,
            "grid_auto_rows": null,
            "grid_column": null,
            "grid_gap": null,
            "grid_row": null,
            "grid_template_areas": null,
            "grid_template_columns": null,
            "grid_template_rows": null,
            "height": null,
            "justify_content": null,
            "justify_items": null,
            "left": null,
            "margin": null,
            "max_height": null,
            "max_width": null,
            "min_height": null,
            "min_width": null,
            "object_fit": null,
            "object_position": null,
            "order": null,
            "overflow": null,
            "overflow_x": null,
            "overflow_y": null,
            "padding": null,
            "right": null,
            "top": null,
            "visibility": null,
            "width": null
          }
        },
        "b7ca4d91444a43cf8005ec1a07364bda": {
          "model_module": "@jupyter-widgets/base",
          "model_module_version": "1.2.0",
          "model_name": "LayoutModel",
          "state": {
            "_model_module": "@jupyter-widgets/base",
            "_model_module_version": "1.2.0",
            "_model_name": "LayoutModel",
            "_view_count": null,
            "_view_module": "@jupyter-widgets/base",
            "_view_module_version": "1.2.0",
            "_view_name": "LayoutView",
            "align_content": null,
            "align_items": null,
            "align_self": null,
            "border": null,
            "bottom": null,
            "display": null,
            "flex": null,
            "flex_flow": null,
            "grid_area": null,
            "grid_auto_columns": null,
            "grid_auto_flow": null,
            "grid_auto_rows": null,
            "grid_column": null,
            "grid_gap": null,
            "grid_row": null,
            "grid_template_areas": null,
            "grid_template_columns": null,
            "grid_template_rows": null,
            "height": null,
            "justify_content": null,
            "justify_items": null,
            "left": null,
            "margin": null,
            "max_height": null,
            "max_width": null,
            "min_height": null,
            "min_width": null,
            "object_fit": null,
            "object_position": null,
            "order": null,
            "overflow": null,
            "overflow_x": null,
            "overflow_y": null,
            "padding": null,
            "right": null,
            "top": null,
            "visibility": null,
            "width": null
          }
        },
        "b8403a6a13ea480f964173ec8b0b0c4e": {
          "model_module": "@jupyter-widgets/controls",
          "model_module_version": "1.5.0",
          "model_name": "DescriptionStyleModel",
          "state": {
            "_model_module": "@jupyter-widgets/controls",
            "_model_module_version": "1.5.0",
            "_model_name": "DescriptionStyleModel",
            "_view_count": null,
            "_view_module": "@jupyter-widgets/base",
            "_view_module_version": "1.2.0",
            "_view_name": "StyleView",
            "description_width": ""
          }
        },
        "bb7d55647094417b804d796d841850ce": {
          "model_module": "@jupyter-widgets/base",
          "model_module_version": "1.2.0",
          "model_name": "LayoutModel",
          "state": {
            "_model_module": "@jupyter-widgets/base",
            "_model_module_version": "1.2.0",
            "_model_name": "LayoutModel",
            "_view_count": null,
            "_view_module": "@jupyter-widgets/base",
            "_view_module_version": "1.2.0",
            "_view_name": "LayoutView",
            "align_content": null,
            "align_items": null,
            "align_self": null,
            "border": null,
            "bottom": null,
            "display": null,
            "flex": null,
            "flex_flow": null,
            "grid_area": null,
            "grid_auto_columns": null,
            "grid_auto_flow": null,
            "grid_auto_rows": null,
            "grid_column": null,
            "grid_gap": null,
            "grid_row": null,
            "grid_template_areas": null,
            "grid_template_columns": null,
            "grid_template_rows": null,
            "height": null,
            "justify_content": null,
            "justify_items": null,
            "left": null,
            "margin": null,
            "max_height": null,
            "max_width": null,
            "min_height": null,
            "min_width": null,
            "object_fit": null,
            "object_position": null,
            "order": null,
            "overflow": null,
            "overflow_x": null,
            "overflow_y": null,
            "padding": null,
            "right": null,
            "top": null,
            "visibility": null,
            "width": null
          }
        },
        "bcafe754c9da493ab3a8c73fcd21b87b": {
          "model_module": "@jupyter-widgets/controls",
          "model_module_version": "1.5.0",
          "model_name": "ProgressStyleModel",
          "state": {
            "_model_module": "@jupyter-widgets/controls",
            "_model_module_version": "1.5.0",
            "_model_name": "ProgressStyleModel",
            "_view_count": null,
            "_view_module": "@jupyter-widgets/base",
            "_view_module_version": "1.2.0",
            "_view_name": "StyleView",
            "bar_color": null,
            "description_width": ""
          }
        },
        "bddd7bf56cdf4a91b97c5b2257a2bf2a": {
          "model_module": "@jupyter-widgets/base",
          "model_module_version": "1.2.0",
          "model_name": "LayoutModel",
          "state": {
            "_model_module": "@jupyter-widgets/base",
            "_model_module_version": "1.2.0",
            "_model_name": "LayoutModel",
            "_view_count": null,
            "_view_module": "@jupyter-widgets/base",
            "_view_module_version": "1.2.0",
            "_view_name": "LayoutView",
            "align_content": null,
            "align_items": null,
            "align_self": null,
            "border": null,
            "bottom": null,
            "display": null,
            "flex": null,
            "flex_flow": null,
            "grid_area": null,
            "grid_auto_columns": null,
            "grid_auto_flow": null,
            "grid_auto_rows": null,
            "grid_column": null,
            "grid_gap": null,
            "grid_row": null,
            "grid_template_areas": null,
            "grid_template_columns": null,
            "grid_template_rows": null,
            "height": null,
            "justify_content": null,
            "justify_items": null,
            "left": null,
            "margin": null,
            "max_height": null,
            "max_width": null,
            "min_height": null,
            "min_width": null,
            "object_fit": null,
            "object_position": null,
            "order": null,
            "overflow": null,
            "overflow_x": null,
            "overflow_y": null,
            "padding": null,
            "right": null,
            "top": null,
            "visibility": null,
            "width": null
          }
        },
        "bfdd0e2d2f154bcc85f2c28c71c0b289": {
          "model_module": "@jupyter-widgets/controls",
          "model_module_version": "1.5.0",
          "model_name": "DescriptionStyleModel",
          "state": {
            "_model_module": "@jupyter-widgets/controls",
            "_model_module_version": "1.5.0",
            "_model_name": "DescriptionStyleModel",
            "_view_count": null,
            "_view_module": "@jupyter-widgets/base",
            "_view_module_version": "1.2.0",
            "_view_name": "StyleView",
            "description_width": ""
          }
        },
        "c6368310aa4e4303878f7f4df8bead9c": {
          "model_module": "@jupyter-widgets/base",
          "model_module_version": "1.2.0",
          "model_name": "LayoutModel",
          "state": {
            "_model_module": "@jupyter-widgets/base",
            "_model_module_version": "1.2.0",
            "_model_name": "LayoutModel",
            "_view_count": null,
            "_view_module": "@jupyter-widgets/base",
            "_view_module_version": "1.2.0",
            "_view_name": "LayoutView",
            "align_content": null,
            "align_items": null,
            "align_self": null,
            "border": null,
            "bottom": null,
            "display": null,
            "flex": null,
            "flex_flow": null,
            "grid_area": null,
            "grid_auto_columns": null,
            "grid_auto_flow": null,
            "grid_auto_rows": null,
            "grid_column": null,
            "grid_gap": null,
            "grid_row": null,
            "grid_template_areas": null,
            "grid_template_columns": null,
            "grid_template_rows": null,
            "height": null,
            "justify_content": null,
            "justify_items": null,
            "left": null,
            "margin": null,
            "max_height": null,
            "max_width": null,
            "min_height": null,
            "min_width": null,
            "object_fit": null,
            "object_position": null,
            "order": null,
            "overflow": null,
            "overflow_x": null,
            "overflow_y": null,
            "padding": null,
            "right": null,
            "top": null,
            "visibility": null,
            "width": null
          }
        },
        "d76bbf2eb4b84cb7b20e4a12cf633683": {
          "model_module": "@jupyter-widgets/base",
          "model_module_version": "1.2.0",
          "model_name": "LayoutModel",
          "state": {
            "_model_module": "@jupyter-widgets/base",
            "_model_module_version": "1.2.0",
            "_model_name": "LayoutModel",
            "_view_count": null,
            "_view_module": "@jupyter-widgets/base",
            "_view_module_version": "1.2.0",
            "_view_name": "LayoutView",
            "align_content": null,
            "align_items": null,
            "align_self": null,
            "border": null,
            "bottom": null,
            "display": null,
            "flex": null,
            "flex_flow": null,
            "grid_area": null,
            "grid_auto_columns": null,
            "grid_auto_flow": null,
            "grid_auto_rows": null,
            "grid_column": null,
            "grid_gap": null,
            "grid_row": null,
            "grid_template_areas": null,
            "grid_template_columns": null,
            "grid_template_rows": null,
            "height": null,
            "justify_content": null,
            "justify_items": null,
            "left": null,
            "margin": null,
            "max_height": null,
            "max_width": null,
            "min_height": null,
            "min_width": null,
            "object_fit": null,
            "object_position": null,
            "order": null,
            "overflow": null,
            "overflow_x": null,
            "overflow_y": null,
            "padding": null,
            "right": null,
            "top": null,
            "visibility": null,
            "width": null
          }
        },
        "d98647ca847b44e6b03b7d10d7f91d95": {
          "model_module": "@jupyter-widgets/controls",
          "model_module_version": "1.5.0",
          "model_name": "DescriptionStyleModel",
          "state": {
            "_model_module": "@jupyter-widgets/controls",
            "_model_module_version": "1.5.0",
            "_model_name": "DescriptionStyleModel",
            "_view_count": null,
            "_view_module": "@jupyter-widgets/base",
            "_view_module_version": "1.2.0",
            "_view_name": "StyleView",
            "description_width": ""
          }
        },
        "d98fde45490a416f9dcc5a6292131afd": {
          "model_module": "@jupyter-widgets/controls",
          "model_module_version": "1.5.0",
          "model_name": "FloatProgressModel",
          "state": {
            "_dom_classes": [],
            "_model_module": "@jupyter-widgets/controls",
            "_model_module_version": "1.5.0",
            "_model_name": "FloatProgressModel",
            "_view_count": null,
            "_view_module": "@jupyter-widgets/controls",
            "_view_module_version": "1.5.0",
            "_view_name": "ProgressView",
            "bar_style": "success",
            "description": "",
            "description_tooltip": null,
            "layout": "IPY_MODEL_0473617c9a174ea4966b0d04ef415a4d",
            "max": 350,
            "min": 0,
            "orientation": "horizontal",
            "style": "IPY_MODEL_54e430bad9fc4e4a8aefc3a4af73bded",
            "value": 350
          }
        },
        "e47e5d2691a64e4ca873951a5cd2f99a": {
          "model_module": "@jupyter-widgets/base",
          "model_module_version": "1.2.0",
          "model_name": "LayoutModel",
          "state": {
            "_model_module": "@jupyter-widgets/base",
            "_model_module_version": "1.2.0",
            "_model_name": "LayoutModel",
            "_view_count": null,
            "_view_module": "@jupyter-widgets/base",
            "_view_module_version": "1.2.0",
            "_view_name": "LayoutView",
            "align_content": null,
            "align_items": null,
            "align_self": null,
            "border": null,
            "bottom": null,
            "display": null,
            "flex": null,
            "flex_flow": null,
            "grid_area": null,
            "grid_auto_columns": null,
            "grid_auto_flow": null,
            "grid_auto_rows": null,
            "grid_column": null,
            "grid_gap": null,
            "grid_row": null,
            "grid_template_areas": null,
            "grid_template_columns": null,
            "grid_template_rows": null,
            "height": null,
            "justify_content": null,
            "justify_items": null,
            "left": null,
            "margin": null,
            "max_height": null,
            "max_width": null,
            "min_height": null,
            "min_width": null,
            "object_fit": null,
            "object_position": null,
            "order": null,
            "overflow": null,
            "overflow_x": null,
            "overflow_y": null,
            "padding": null,
            "right": null,
            "top": null,
            "visibility": null,
            "width": null
          }
        },
        "e819450975b64ec1957a6a9df21e9492": {
          "model_module": "@jupyter-widgets/controls",
          "model_module_version": "1.5.0",
          "model_name": "DescriptionStyleModel",
          "state": {
            "_model_module": "@jupyter-widgets/controls",
            "_model_module_version": "1.5.0",
            "_model_name": "DescriptionStyleModel",
            "_view_count": null,
            "_view_module": "@jupyter-widgets/base",
            "_view_module_version": "1.2.0",
            "_view_name": "StyleView",
            "description_width": ""
          }
        },
        "f005477231e24abcac90dee6a0419b9b": {
          "model_module": "@jupyter-widgets/controls",
          "model_module_version": "1.5.0",
          "model_name": "ProgressStyleModel",
          "state": {
            "_model_module": "@jupyter-widgets/controls",
            "_model_module_version": "1.5.0",
            "_model_name": "ProgressStyleModel",
            "_view_count": null,
            "_view_module": "@jupyter-widgets/base",
            "_view_module_version": "1.2.0",
            "_view_name": "StyleView",
            "bar_color": null,
            "description_width": ""
          }
        },
        "f0260bc1dfe1424182552cc10d8b7ce3": {
          "model_module": "@jupyter-widgets/controls",
          "model_module_version": "1.5.0",
          "model_name": "FloatProgressModel",
          "state": {
            "_dom_classes": [],
            "_model_module": "@jupyter-widgets/controls",
            "_model_module_version": "1.5.0",
            "_model_name": "FloatProgressModel",
            "_view_count": null,
            "_view_module": "@jupyter-widgets/controls",
            "_view_module_version": "1.5.0",
            "_view_name": "ProgressView",
            "bar_style": "success",
            "description": "",
            "description_tooltip": null,
            "layout": "IPY_MODEL_bddd7bf56cdf4a91b97c5b2257a2bf2a",
            "max": 61,
            "min": 0,
            "orientation": "horizontal",
            "style": "IPY_MODEL_27b8c88e33b3424480acb533fbb8d1a2",
            "value": 61
          }
        }
      }
    }
  },
  "nbformat": 4,
  "nbformat_minor": 0
}
